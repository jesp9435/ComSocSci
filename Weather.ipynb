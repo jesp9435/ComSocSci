{
 "cells": [
  {
   "cell_type": "code",
   "execution_count": 1,
   "metadata": {},
   "outputs": [],
   "source": [
    "import networkx as nx\n",
    "from collections import defaultdict\n",
    "from itertools import combinations\n",
    "from bs4 import BeautifulSoup  \n",
    "import json\n",
    "import pandas as pd\n",
    "import concurrent.futures \n",
    "import requests\n",
    "import math\n",
    "import csv\n",
    "from collections import Counter\n",
    "import ast\n",
    "import netwulf as nw\n",
    "import matplotlib.pyplot as plt\n",
    "import pickle\n",
    "from selenium import webdriver\n",
    "from selenium.webdriver.common.by import By\n",
    "from webdriver_manager.chrome import ChromeDriverManager\n",
    "from selenium.webdriver.chrome.service import Service\n",
    "from selenium.webdriver.chrome.options import Options\n",
    "from selenium.webdriver.common.keys import Keys\n",
    "from selenium.webdriver.support.ui import WebDriverWait\n",
    "from selenium.webdriver.support import expected_conditions as EC\n"
   ]
  },
  {
   "cell_type": "code",
   "execution_count": 48,
   "metadata": {},
   "outputs": [],
   "source": [
    "dictionaries = []\n",
    "def process_data(date):\n",
    "    link = \"https://www.wunderground.com/history/daily/us/ny/new-york-city/KLGA/date/\"\n",
    "    link += date\n",
    "    chrome_prefs = {\n",
    "        \"profile.default_content_settings.cookies\": 1  \n",
    "    }\n",
    "    chrome_options = webdriver.ChromeOptions()\n",
    "    chrome_options.add_experimental_option(\"prefs\", chrome_prefs)\n",
    "    service = Service(ChromeDriverManager().install())\n",
    "    driver = webdriver.Chrome(service=service, options=chrome_options)\n",
    "    driver.get(link)\n",
    "    driver.implicitly_wait(15)\n",
    "    table = driver.find_element(By.XPATH, '//*[@id=\"inner-content\"]/div[2]/div[1]/div[5]/div[1]/div/lib-city-history-observation/div/div[2]/table')\n",
    "    rows = table.find_elements(By.TAG_NAME, 'tr')\n",
    "    rows.pop(0)\n",
    "    weather_data = {}\n",
    "    attributes = ['Temperature', 'Dew Point', 'Humidity', 'Wind', 'Wind Speed', 'Wind Gust', 'Pressure', 'Precip.', 'Condition']\n",
    "    \n",
    "    for row in rows:\n",
    "        if(len(row.text)>3):\n",
    "            parts = row.text.strip().split(\" \")\n",
    "            \n",
    "            time = ' '.join(parts[:2])\n",
    "            details = {\n",
    "                attributes[0]: parts[2] + ' ' + parts[3],  # Temperature\n",
    "                attributes[1]: parts[4] + ' ' + parts[5],  # Dew Point\n",
    "                attributes[2]: parts[6] + ' ' + parts[7],  # Humidity\n",
    "                attributes[3]: parts[8],                   # Wind\n",
    "                attributes[4]: parts[9],                   # Wind Speed\n",
    "                attributes[5]: parts[11],                  # Wind Gust\n",
    "                attributes[6]: parts[13] + ' ' + parts[14],# Pressure\n",
    "                attributes[7]: parts[15] + ' ' + parts[16],# Precip.\n",
    "                attributes[8]: ' '.join(parts[17:])                   # Condition\n",
    "                }\n",
    "            weather_data[time] = details\n",
    "    driver.quit()\n",
    "    dictionaries.append(weather_data)\n"
   ]
  },
  {
   "cell_type": "code",
   "execution_count": 94,
   "metadata": {},
   "outputs": [
    {
     "name": "stdout",
     "output_type": "stream",
     "text": [
      "1\n",
      "2\n",
      "3\n",
      "4\n",
      "5\n",
      "6\n",
      "7\n",
      "8\n",
      "9\n",
      "10\n",
      "11\n",
      "12\n",
      "13\n",
      "14\n",
      "15\n",
      "16\n",
      "17\n",
      "18\n",
      "19\n",
      "20\n",
      "21\n",
      "22\n",
      "23\n",
      "24\n",
      "25\n",
      "26\n",
      "27\n",
      "28\n",
      "29\n",
      "30\n",
      "31\n"
     ]
    }
   ],
   "source": [
    "dates = []\n",
    "#dictionaries = []\n",
    "for i in range(31):\n",
    "    day = i+1\n",
    "    print(day)\n",
    "    dates.append(\"2023-5-\"+str(day))  "
   ]
  },
  {
   "cell_type": "code",
   "execution_count": 12,
   "metadata": {},
   "outputs": [
    {
     "data": {
      "text/plain": [
       "\" with open('transformed_data.json', 'w') as file:\\n    json.dump(annual_data, file, indent=4) \""
      ]
     },
     "execution_count": 12,
     "metadata": {},
     "output_type": "execute_result"
    }
   ],
   "source": [
    "with open('data.json', 'r') as file:\n",
    "    data = json.load(file)\n",
    "\n",
    "year_count = 2013\n",
    "annual_data = {}\n",
    "current_year_data = {}\n",
    "incident_count = 1\n",
    "\n",
    "for entry in data:\n",
    "    current_year_data[str(incident_count)] = entry\n",
    "    incident_count += 1\n",
    "\n",
    "    if incident_count > 31:\n",
    "        annual_data[str(year_count)] = current_year_data\n",
    "        year_count += 1\n",
    "        current_year_data = {}\n",
    "        incident_count = 1\n",
    "\n",
    "if current_year_data:\n",
    "    annual_data[str(year_count)] = current_year_data\n",
    "\n",
    "\"\"\" with open('transformed_data.json', 'w') as file:\n",
    "    json.dump(annual_data, file, indent=4) \"\"\""
   ]
  },
  {
   "cell_type": "code",
   "execution_count": null,
   "metadata": {},
   "outputs": [],
   "source": [
    "with open('transformed_data.json', 'r') as file:\n",
    "    data = json.load(file)\n",
    "average_per_year = []\n",
    "for year in data.items():\n",
    "    average_per_month = []\n",
    "    for day in year[1].items():\n",
    "        sum = 0.0\n",
    "        for time in day[1].items():\n",
    "            precip = time[1][\"Precip.\"].strip(\"in\").strip(\" \")\n",
    "            sum += float(precip)\n",
    "        average = float(sum/len(day))\n",
    "        average_per_month.append(average)\n",
    "    average_per_year.append(average_per_month)\n",
    "\n"
   ]
  },
  {
   "cell_type": "code",
   "execution_count": 81,
   "metadata": {},
   "outputs": [
    {
     "name": "stdout",
     "output_type": "stream",
     "text": [
      "[0.0, 0.0, 0.0, 0.0, 0.0, 0.0, 0.0, 2.150000000000001, 0.5, 0.0, 0.8999999999999999, 0.0, 0.0, 0.0, 0.0, 0.0, 0.0, 0.0, 0.05, 0.0, 0.0, 0.0, 0.5, 0.05, 0.0, 0.0, 0.0, 0.3, 0.0, 0.0, 0.0]\n",
      "[0.39999999999999997, 0.0, 0.0, 0.0, 0.0, 0.0, 0.0, 0.25, 0.0, 1.0, 0.0, 0.0, 0.0, 0.0, 0.05, 1.35, 0.0, 0.0, 0.0, 0.0, 0.0, 0.15000000000000002, 0.6000000000000001, 0.2, 0.0, 0.0, 0.0, 0.0, 0.0, 0.0, 0.0]\n",
      "[0.0, 0.0, 0.0, 0.0, 0.0, 0.0, 0.0, 0.0, 0.0, 0.0, 0.0, 0.0, 0.0, 0.0, 0.0, 0.1, 0.05, 0.0, 0.0, 0.0, 0.0, 0.0, 0.0, 0.0, 0.0, 0.0, 0.0, 0.0, 0.0, 0.0, 1.9500000000000004]\n",
      "[0.0, 0.0, 0.65, 0.0, 0.0, 0.65, 0.0, 0.1, 0.0, 0.0, 0.0, 0.0, 0.25, 0.0, 0.0, 0.0, 0.0, 0.0, 0.0, 0.0, 0.05, 0.05, 0.0, 0.15000000000000002, 0.0, 0.0, 0.0, 0.0, 0.0, 1.2000000000000002, 0.0]\n",
      "[0.0, 0.0, 0.0, 0.0, 2.6500000000000004, 0.0, 0.0, 0.0, 0.0, 0.0, 0.0, 0.0, 1.1500000000000001, 0.0, 0.0, 0.0, 0.0, 0.0, 0.0, 0.0, 0.0, 0.5, 0.0, 0.0, 0.44999999999999996, 0.3, 0.0, 0.0, 0.05, 0.0, 0.0]\n",
      "[0.0, 0.0, 0.0, 0.0, 0.0, 0.0, 0.0, 0.0, 0.0, 0.15000000000000002, 0.0, 0.05, 0.0, 0.0, 0.35, 0.35, 0.35, 0.0, 0.6499999999999999, 0.0, 0.0, 0.15000000000000002, 0.3, 0.0, 0.0, 0.0, 0.6499999999999999, 0.0, 0.0, 0.0, 0.0]\n",
      "[0.0, 0.0, 0.0, 0.25, 0.9, 0.0, 0.0, 0.0, 0.0, 0.0, 0.0, 0.9500000000000002, 0.25, 0.15000000000000002, 0.0, 0.0, 0.0, 0.0, 0.0, 0.0, 0.0, 0.0, 0.35, 0.0, 0.0, 0.2, 0.0, 0.15000000000000002, 1.55, 0.6000000000000001, 0.15000000000000002]\n",
      "[0.1, 0.0, 0.0, 0.0, 0.0, 0.0, 0.0, 0.15000000000000002, 0.0, 0.0, 0.05, 0.0, 0.0, 0.0, 0.0, 0.0, 0.0, 0.0, 0.0, 0.0, 0.0, 0.0, 0.39999999999999997, 0.0, 0.0, 0.0, 0.0, 0.0, 0.0, 0.0, 0.0]\n",
      "[0.0, 0.0, 0.1, 0.3, 0.2, 0.0, 0.0, 0.0, 0.25, 0.0, 0.0, 0.0, 0.0, 0.0, 0.0, 0.0, 0.0, 0.0, 0.0, 0.0, 0.0, 0.0, 0.0, 0.0, 0.0, 0.0, 0.05, 0.7499999999999999, 0.3, 0.55, 0.0]\n",
      "[0.0, 0.7000000000000001, 0.0, 0.05, 0.0, 0.49999999999999994, 0.6500000000000001, 0.0, 0.0, 0.0, 0.0, 0.0, 0.0, 0.15000000000000002, 0.0, 0.35, 0.0, 0.0, 0.75, 0.35000000000000003, 0.0, 0.0, 0.0, 0.0, 0.0, 0.0, 0.1, 0.1, 0.0, 0.0, 0.0]\n",
      "[0.0, 0.0, 0.0, 0.0, 0.0, 0.0, 0.0, 0.0, 0.0, 0.0, 0.0, 0.0, 0.0, 0.0, 0.0, 0.0, 0.0, 0.0, 0.0, 0.8500000000000001, 0.0, 0.0, 0.0, 0.0, 0.0, 0.0, 0.0, 0.0, 0.0, 0.0, 0.0]\n"
     ]
    }
   ],
   "source": [
    "for year in average_per_year:\n",
    "    print(year)"
   ]
  },
  {
   "cell_type": "code",
   "execution_count": 78,
   "metadata": {},
   "outputs": [],
   "source": [
    "max_difference = []\n",
    "for j in range(len(average_per_year[0])):\n",
    "    temp_max = 0.0\n",
    "    max_index = []\n",
    "    temp_min = 1.0\n",
    "    min_index = []\n",
    "    for i in range(len(average_per_year)):\n",
    "        if (float(average_per_year[i][j]) > temp_max):\n",
    "            temp_max = average_per_year[i][j]\n",
    "            max_index = [i,j]\n",
    "        if float(average_per_year[i][j]) < temp_min:\n",
    "            temp_min = average_per_year[i][j]\n",
    "            min_index = [i,j]\n",
    "    difference = temp_max-temp_min\n",
    "    max_difference.append([difference,max_index,min_index])\n",
    "\n",
    "    \n"
   ]
  },
  {
   "cell_type": "code",
   "execution_count": 79,
   "metadata": {},
   "outputs": [
    {
     "name": "stdout",
     "output_type": "stream",
     "text": [
      "[[0.39999999999999997, [1, 0], [0, 0]], [0.0, [7, 1], [0, 1]], [0.0, [7, 2], [0, 2]], [0.0, [7, 3], [0, 3]], [0.0, [7, 4], [0, 4]], [0.0, [7, 5], [0, 5]], [0.0, [7, 6], [0, 6]], [0.25, [1, 7], [2, 7]], [0.0, [7, 8], [1, 8]], [1.0, [1, 9], [0, 9]], [0.05, [7, 10], [1, 10]], [0.0, [7, 11], [0, 11]], [0.0, [7, 12], [0, 12]], [0.0, [7, 13], [0, 13]], [0.0, [7, 14], [0, 14]], [1.35, [1, 15], [0, 15]], [0.0, [7, 16], [0, 16]], [0.0, [7, 17], [0, 17]], [0.0, [7, 18], [2, 18]], [0.0, [7, 19], [0, 19]], [0.0, [7, 20], [0, 20]], [0.15000000000000002, [1, 21], [0, 21]], [0.6000000000000001, [1, 22], [2, 22]], [0.2, [1, 23], [2, 23]], [0.0, [7, 24], [0, 24]], [0.0, [7, 25], [0, 25]], [0.0, [7, 26], [0, 26]], [0.0, [7, 27], [2, 27]], [0.0, [7, 28], [0, 28]], [0.0, [7, 29], [0, 29]], [0.0, [7, 30], [0, 30]]]\n"
     ]
    }
   ],
   "source": [
    "print(max_difference)"
   ]
  }
 ],
 "metadata": {
  "kernelspec": {
   "display_name": "Python 3.9.13 ('ANN')",
   "language": "python",
   "name": "python3"
  },
  "language_info": {
   "codemirror_mode": {
    "name": "ipython",
    "version": 3
   },
   "file_extension": ".py",
   "mimetype": "text/x-python",
   "name": "python",
   "nbconvert_exporter": "python",
   "pygments_lexer": "ipython3",
   "version": "3.9.7"
  },
  "orig_nbformat": 4,
  "vscode": {
   "interpreter": {
    "hash": "e253e861da49e0bbccda70175bce74f3442aedb410e74d034432e289d13936b5"
   }
  }
 },
 "nbformat": 4,
 "nbformat_minor": 2
}

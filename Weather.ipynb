{
 "cells": [
  {
   "cell_type": "code",
   "execution_count": 1,
   "metadata": {},
   "outputs": [],
   "source": [
    "import networkx as nx\n",
    "from collections import defaultdict\n",
    "from itertools import combinations\n",
    "from bs4 import BeautifulSoup  \n",
    "import json\n",
    "import pandas as pd\n",
    "import concurrent.futures \n",
    "import requests\n",
    "import math\n",
    "import csv\n",
    "from collections import Counter\n",
    "import ast\n",
    "import netwulf as nw\n",
    "import matplotlib.pyplot as plt\n",
    "import pickle\n",
    "from selenium import webdriver\n",
    "from selenium.webdriver.common.by import By\n",
    "from webdriver_manager.chrome import ChromeDriverManager\n",
    "from selenium.webdriver.chrome.service import Service\n",
    "from selenium.webdriver.chrome.options import Options\n",
    "from selenium.webdriver.common.keys import Keys\n",
    "from selenium.webdriver.support.ui import WebDriverWait\n",
    "from selenium.webdriver.support import expected_conditions as EC\n"
   ]
  },
  {
   "cell_type": "code",
   "execution_count": 2,
   "metadata": {},
   "outputs": [],
   "source": [
    "dictionaries = []\n",
    "def process_data(date):\n",
    "    link = \"https://www.wunderground.com/history/daily/us/ny/new-york-city/KLGA/date/\"\n",
    "    link += date\n",
    "    chrome_prefs = {\n",
    "        \"profile.default_content_settings.cookies\": 1  \n",
    "    }\n",
    "    chrome_options = webdriver.ChromeOptions()\n",
    "    chrome_options.add_experimental_option(\"prefs\", chrome_prefs)\n",
    "    service = Service(ChromeDriverManager().install())\n",
    "    driver = webdriver.Chrome(service=service, options=chrome_options)\n",
    "    driver.get(link)\n",
    "    driver.implicitly_wait(15)\n",
    "    table = driver.find_element(By.XPATH, '//*[@id=\"inner-content\"]/div[2]/div[1]/div[5]/div[1]/div/lib-city-history-observation/div/div[2]/table')\n",
    "    rows = table.find_elements(By.TAG_NAME, 'tr')\n",
    "    rows.pop(0)\n",
    "    weather_data = {}\n",
    "    attributes = ['Temperature', 'Dew Point', 'Humidity', 'Wind', 'Wind Speed', 'Wind Gust', 'Pressure', 'Precip.', 'Condition']\n",
    "    \n",
    "    for row in rows:\n",
    "        if(len(row.text)>3):\n",
    "            parts = row.text.strip().split(\" \")\n",
    "            \n",
    "            time = ' '.join(parts[:2])\n",
    "            details = {\n",
    "                attributes[0]: parts[2] + ' ' + parts[3],  # Temperature\n",
    "                attributes[1]: parts[4] + ' ' + parts[5],  # Dew Point\n",
    "                attributes[2]: parts[6] + ' ' + parts[7],  # Humidity\n",
    "                attributes[3]: parts[8],                   # Wind\n",
    "                attributes[4]: parts[9],                   # Wind Speed\n",
    "                attributes[5]: parts[11],                  # Wind Gust\n",
    "                attributes[6]: parts[13] + ' ' + parts[14],# Pressure\n",
    "                attributes[7]: parts[15] + ' ' + parts[16],# Precip.\n",
    "                attributes[8]: ' '.join(parts[17:])                   # Condition\n",
    "                }\n",
    "            weather_data[time] = details\n",
    "    driver.quit()\n",
    "    dictionaries.append(weather_data)\n"
   ]
  },
  {
   "cell_type": "code",
   "execution_count": 94,
   "metadata": {},
   "outputs": [
    {
     "name": "stdout",
     "output_type": "stream",
     "text": [
      "1\n",
      "2\n",
      "3\n",
      "4\n",
      "5\n",
      "6\n",
      "7\n",
      "8\n",
      "9\n",
      "10\n",
      "11\n",
      "12\n",
      "13\n",
      "14\n",
      "15\n",
      "16\n",
      "17\n",
      "18\n",
      "19\n",
      "20\n",
      "21\n",
      "22\n",
      "23\n",
      "24\n",
      "25\n",
      "26\n",
      "27\n",
      "28\n",
      "29\n",
      "30\n",
      "31\n"
     ]
    }
   ],
   "source": [
    "dates = []\n",
    "#dictionaries = []\n",
    "for i in range(31):\n",
    "    day = i+1\n",
    "    print(day)\n",
    "    dates.append(\"2023-5-\"+str(day))  "
   ]
  },
  {
   "cell_type": "code",
   "execution_count": 3,
   "metadata": {},
   "outputs": [],
   "source": [
    "annual_data = {}\n"
   ]
  },
  {
   "cell_type": "code",
   "execution_count": 4,
   "metadata": {},
   "outputs": [],
   "source": [
    "with open('transformed_data.json', 'r') as file:\n",
    "    data = json.load(file)\n",
    "average_per_year = []\n",
    "for year in data.items():\n",
    "    average_per_month = []\n",
    "    for day in year[1].items():\n",
    "        sum = 0.0\n",
    "        for time in day[1].items():\n",
    "            precip = time[1][\"Precip.\"].strip(\"in\").strip(\" \")\n",
    "            sum += float(precip)\n",
    "        average = float(sum/len(day))\n",
    "        average_per_month.append(average)\n",
    "    average_per_year.append(average_per_month)\n",
    "\n"
   ]
  },
  {
   "cell_type": "code",
   "execution_count": 5,
   "metadata": {},
   "outputs": [
    {
     "name": "stdout",
     "output_type": "stream",
     "text": [
      "[0.0, 0.0, 0.0, 0.0, 0.0, 0.0, 0.0, 2.150000000000001, 0.5, 0.0, 0.8999999999999999, 0.0, 0.0, 0.0, 0.0, 0.0, 0.0, 0.0, 0.05, 0.0, 0.0, 0.0, 0.5, 0.05, 0.0, 0.0, 0.0, 0.3, 0.0, 0.0, 0.0]\n",
      "[0.39999999999999997, 0.0, 0.0, 0.0, 0.0, 0.0, 0.0, 0.25, 0.0, 1.0, 0.0, 0.0, 0.0, 0.0, 0.05, 1.35, 0.0, 0.0, 0.0, 0.0, 0.0, 0.15000000000000002, 0.6000000000000001, 0.2, 0.0, 0.0, 0.0, 0.0, 0.0, 0.0, 0.0]\n",
      "[0.0, 0.0, 0.0, 0.0, 0.0, 0.0, 0.0, 0.0, 0.0, 0.0, 0.0, 0.0, 0.0, 0.0, 0.0, 0.1, 0.05, 0.0, 0.0, 0.0, 0.0, 0.0, 0.0, 0.0, 0.0, 0.0, 0.0, 0.0, 0.0, 0.0, 1.9500000000000004]\n",
      "[0.0, 0.0, 0.65, 0.0, 0.0, 0.65, 0.0, 0.1, 0.0, 0.0, 0.0, 0.0, 0.25, 0.0, 0.0, 0.0, 0.0, 0.0, 0.0, 0.0, 0.05, 0.05, 0.0, 0.15000000000000002, 0.0, 0.0, 0.0, 0.0, 0.0, 1.2000000000000002, 0.0]\n",
      "[0.0, 0.0, 0.0, 0.0, 2.6500000000000004, 0.0, 0.0, 0.0, 0.0, 0.0, 0.0, 0.0, 1.1500000000000001, 0.0, 0.0, 0.0, 0.0, 0.0, 0.0, 0.0, 0.0, 0.5, 0.0, 0.0, 0.44999999999999996, 0.3, 0.0, 0.0, 0.05, 0.0, 0.0]\n",
      "[0.0, 0.0, 0.0, 0.0, 0.0, 0.0, 0.0, 0.0, 0.0, 0.15000000000000002, 0.0, 0.05, 0.0, 0.0, 0.35, 0.35, 0.35, 0.0, 0.6499999999999999, 0.0, 0.0, 0.15000000000000002, 0.3, 0.0, 0.0, 0.0, 0.6499999999999999, 0.0, 0.0, 0.0, 0.0]\n",
      "[0.0, 0.0, 0.0, 0.25, 0.9, 0.0, 0.0, 0.0, 0.0, 0.0, 0.0, 0.9500000000000002, 0.25, 0.15000000000000002, 0.0, 0.0, 0.0, 0.0, 0.0, 0.0, 0.0, 0.0, 0.35, 0.0, 0.0, 0.2, 0.0, 0.15000000000000002, 1.55, 0.6000000000000001, 0.15000000000000002]\n",
      "[0.1, 0.0, 0.0, 0.0, 0.0, 0.0, 0.0, 0.15000000000000002, 0.0, 0.0, 0.05, 0.0, 0.0, 0.0, 0.0, 0.0, 0.0, 0.0, 0.0, 0.0, 0.0, 0.0, 0.39999999999999997, 0.0, 0.0, 0.0, 0.0, 0.0, 0.0, 0.0, 0.0]\n",
      "[0.0, 0.0, 0.1, 0.3, 0.2, 0.0, 0.0, 0.0, 0.25, 0.0, 0.0, 0.0, 0.0, 0.0, 0.0, 0.0, 0.0, 0.0, 0.0, 0.0, 0.0, 0.0, 0.0, 0.0, 0.0, 0.0, 0.05, 0.7499999999999999, 0.3, 0.55, 0.0]\n",
      "[0.0, 0.7000000000000001, 0.0, 0.05, 0.0, 0.49999999999999994, 0.6500000000000001, 0.0, 0.0, 0.0, 0.0, 0.0, 0.0, 0.15000000000000002, 0.0, 0.35, 0.0, 0.0, 0.75, 0.35000000000000003, 0.0, 0.0, 0.0, 0.0, 0.0, 0.0, 0.1, 0.1, 0.0, 0.0, 0.0]\n",
      "[0.0, 0.0, 0.0, 0.0, 0.0, 0.0, 0.0, 0.0, 0.0, 0.0, 0.0, 0.0, 0.0, 0.0, 0.0, 0.0, 0.0, 0.0, 0.0, 0.8500000000000001, 0.0, 0.0, 0.0, 0.0, 0.0, 0.0, 0.0, 0.0, 0.0, 0.0, 0.0]\n"
     ]
    }
   ],
   "source": [
    "for year in average_per_year:\n",
    "    print(year)"
   ]
  },
  {
   "cell_type": "code",
   "execution_count": 6,
   "metadata": {},
   "outputs": [],
   "source": [
    "max_difference = []\n",
    "for j in range(len(average_per_year[0])):\n",
    "    temp_max = 0.0\n",
    "    max_index = []\n",
    "    temp_min = 1.0\n",
    "    min_index = []\n",
    "    for i in range(len(average_per_year)):\n",
    "        if (float(average_per_year[i][j]) > temp_max):\n",
    "            temp_max = average_per_year[i][j]\n",
    "            max_index = [2013+i,1+j]\n",
    "        if float(average_per_year[i][j]) < temp_min:\n",
    "            temp_min = average_per_year[i][j]\n",
    "            min_index = [2013+i,1+j]\n",
    "    difference = temp_max-temp_min\n",
    "    max_difference.append([difference,max_index,min_index])\n",
    "\n",
    "    \n"
   ]
  },
  {
   "cell_type": "code",
   "execution_count": 7,
   "metadata": {},
   "outputs": [
    {
     "name": "stdout",
     "output_type": "stream",
     "text": [
      "[[0.39999999999999997, [2014, 1], [2013, 1]], [0.7000000000000001, [2022, 2], [2013, 2]], [0.65, [2016, 3], [2013, 3]], [0.3, [2021, 4], [2013, 4]], [2.6500000000000004, [2017, 5], [2013, 5]], [0.65, [2016, 6], [2013, 6]], [0.6500000000000001, [2022, 7], [2013, 7]], [2.150000000000001, [2013, 8], [2015, 8]], [0.5, [2013, 9], [2014, 9]], [1.0, [2014, 10], [2013, 10]], [0.8999999999999999, [2013, 11], [2014, 11]], [0.9500000000000002, [2019, 12], [2013, 12]], [1.1500000000000001, [2017, 13], [2013, 13]], [0.15000000000000002, [2019, 14], [2013, 14]], [0.35, [2018, 15], [2013, 15]], [1.35, [2014, 16], [2013, 16]], [0.35, [2018, 17], [2013, 17]], [0.0, [], [2013, 18]], [0.75, [2022, 19], [2014, 19]], [0.8500000000000001, [2023, 20], [2013, 20]], [0.05, [2016, 21], [2013, 21]], [0.5, [2017, 22], [2013, 22]], [0.6000000000000001, [2014, 23], [2015, 23]], [0.2, [2014, 24], [2015, 24]], [0.44999999999999996, [2017, 25], [2013, 25]], [0.3, [2017, 26], [2013, 26]], [0.6499999999999999, [2018, 27], [2013, 27]], [0.7499999999999999, [2021, 28], [2014, 28]], [1.55, [2019, 29], [2013, 29]], [1.2000000000000002, [2016, 30], [2013, 30]], [1.9500000000000004, [2015, 31], [2013, 31]]]\n"
     ]
    }
   ],
   "source": [
    "print(max_difference)"
   ]
  },
  {
   "cell_type": "code",
   "execution_count": 8,
   "metadata": {},
   "outputs": [],
   "source": [
    "with open('taxi_zones.json', 'r') as file:\n",
    "    taxi_zones = json.load(file)"
   ]
  },
  {
   "cell_type": "code",
   "execution_count": 9,
   "metadata": {},
   "outputs": [],
   "source": [
    "regions = {\n",
    "    \"Manhattan\": [],\n",
    "    \"Queens\": [],\n",
    "    \"Staten Island\": [],\n",
    "    \"Brooklyn\": [],\n",
    "    \"Bronx\": [],\n",
    "    \"EWR\": [],\n",
    "\n",
    "}\n",
    "for zone in taxi_zones[\"data\"]:\n",
    "    regions[zone[14]].append(zone[13])"
   ]
  },
  {
   "cell_type": "code",
   "execution_count": 12,
   "metadata": {},
   "outputs": [
    {
     "name": "stdout",
     "output_type": "stream",
     "text": [
      "{'Manhattan': ['4', '24', '12', '13', '41', '45', '42', '43', '48', '50', '68', '79', '74', '75', '87', '88', '90', '125', '100', '103', '103', '103', '107', '113', '114', '116', '120', '127', '128', '151', '140', '137', '141', '142', '152', '143', '144', '148', '153', '158', '161', '162', '163', '164', '170', '166', '186', '194', '202', '209', '211', '224', '229', '230', '231', '239', '232', '233', '234', '236', '237', '238', '263', '243', '244', '246', '249', '261', '262'], 'Queens': ['2', '7', '8', '9', '10', '15', '16', '19', '27', '28', '30', '38', '53', '56', '56', '64', '73', '70', '86', '82', '83', '92', '93', '95', '96', '98', '101', '102', '117', '121', '122', '124', '129', '134', '130', '139', '131', '132', '135', '138', '145', '146', '157', '160', '171', '173', '175', '179', '180', '191', '192', '193', '196', '203', '197', '198', '201', '205', '207', '215', '216', '218', '219', '226', '223', '258', '253', '252', '260'], 'Staten Island': ['5', '6', '23', '44', '84', '99', '109', '110', '115', '118', '156', '172', '176', '187', '204', '206', '214', '221', '245', '251'], 'Brooklyn': ['11', '25', '14', '22', '17', '21', '26', '33', '29', '34', '35', '36', '37', '39', '40', '49', '52', '54', '55', '61', '62', '63', '65', '72', '66', '67', '71', '80', '85', '76', '77', '89', '91', '97', '106', '108', '111', '112', '149', '150', '123', '133', '154', '155', '165', '178', '177', '181', '189', '190', '188', '195', '210', '217', '225', '222', '227', '228', '257', '255', '256'], 'Bronx': ['3', '18', '20', '31', '32', '46', '47', '51', '58', '59', '60', '69', '78', '81', '94', '119', '126', '136', '147', '159', '167', '168', '169', '174', '182', '183', '184', '185', '199', '212', '213', '200', '208', '220', '235', '240', '241', '242', '247', '248', '250', '254', '259'], 'EWR': ['1']}\n"
     ]
    }
   ],
   "source": [
    "print(regions)"
   ]
  },
  {
   "cell_type": "code",
   "execution_count": 42,
   "metadata": {},
   "outputs": [
    {
     "name": "stdout",
     "output_type": "stream",
     "text": [
      "https://en.wikipedia.org/wiki/The_Bronx\n",
      "https://en.wikipedia.org/wiki/Co-op_City,_Bronx\n",
      "https://en.wikipedia.org/wiki/Yankee_Stadium\n",
      "https://en.wikipedia.org/wiki/Bronx_Zoo\n",
      "https://en.wikipedia.org/wiki/Bronx_Museum_of_the_Arts\n",
      "https://en.wikipedia.org/wiki/The_Hub,_Bronx\n",
      "https://en.wikipedia.org/wiki/Morris_Heights,_Bronx\n",
      "https://en.wikipedia.org/wiki/Pelham_Bay_Park\n",
      "https://en.wikipedia.org/wiki/Van_Cortlandt_Park\n",
      "https://en.wikipedia.org/wiki/Bronx_Park\n",
      "https://en.wikipedia.org/wiki/Crotona_Park\n",
      "https://en.wikipedia.org/wiki/St._Mary%27s_Park_(Bronx)\n",
      "https://en.wikipedia.org/wiki/St._James_Park_(Bronx)\n",
      "https://en.wikipedia.org/wiki/Macombs_Dam_Park\n",
      "https://en.wikipedia.org/wiki/Henry_Hudson_Park\n",
      "https://en.wikipedia.org/wiki/Ferry_Point_Park\n",
      "https://en.wikipedia.org/wiki/Soundview_Park_(Bronx)\n",
      "https://en.wikipedia.org/wiki/Pregones_Theater\n",
      "https://en.wikipedia.org/wiki/Bronx_Academy_of_Arts_and_Dance\n",
      "https://en.wikipedia.org/wiki/Fordham_Road\n",
      "https://en.wikipedia.org/wiki/Bay_Plaza_Shopping_Center\n",
      "https://en.wikipedia.org/wiki/Brooklyn\n",
      "https://en.wikipedia.org/wiki/Downtown_Brooklyn\n",
      "https://en.wikipedia.org/wiki/Brooklyn_Bridge\n",
      "https://en.wikipedia.org/wiki/Coney_Island\n",
      "https://en.wikipedia.org/wiki/Brooklyn_Museum\n",
      "https://en.wikipedia.org/wiki/Brooklyn_Borough_Hall\n",
      "https://en.wikipedia.org/wiki/Barclays_Center\n",
      "https://en.wikipedia.org/wiki/Brooklyn_College\n",
      "https://en.wikipedia.org/wiki/Greenpoint,_Brooklyn\n",
      "https://en.wikipedia.org/wiki/Sunset_Park,_Brooklyn\n",
      "https://en.wikipedia.org/wiki/Eighth_Avenue_(Brooklyn)#Chinatown\n",
      "https://en.wikipedia.org/wiki/Brooklyn_Botanic_Garden\n",
      "https://en.wikipedia.org/wiki/Grand_Army_Plaza\n",
      "https://en.wikipedia.org/wiki/The_Brooklyn_Tower\n",
      "https://en.wikipedia.org/wiki/Floyd_Bennett_Field\n",
      "https://en.wikipedia.org/wiki/New_York_Transit_Museum\n",
      "https://en.wikipedia.org/wiki/Prospect_Park_(Brooklyn)\n",
      "https://en.wikipedia.org/wiki/Prospect_Park_Zoo\n",
      "https://en.wikipedia.org/wiki/Fort_Greene_Park\n",
      "https://en.wikipedia.org/wiki/Manhattan\n",
      "https://en.wikipedia.org/wiki/American_Museum_of_Natural_History\n",
      "https://en.wikipedia.org/wiki/The_Battery_(Manhattan)\n",
      "https://en.wikipedia.org/wiki/Broadway_(Manhattan)\n",
      "https://en.wikipedia.org/wiki/Theater_District,_Manhattan\n",
      "https://en.wikipedia.org/wiki/Bryant_Park\n",
      "https://en.wikipedia.org/wiki/Central_Park\n",
      "https://en.wikipedia.org/wiki/Chinatown,_Manhattan\n",
      "https://en.wikipedia.org/wiki/Chrysler_Building\n",
      "https://en.wikipedia.org/wiki/The_Cloisters\n",
      "https://en.wikipedia.org/wiki/Columbia_University\n",
      "https://en.wikipedia.org/wiki/Empire_State_Building\n",
      "https://en.wikipedia.org/wiki/Flatiron_Building\n",
      "https://en.wikipedia.org/wiki/Financial_District,_Manhattan\n",
      "https://en.wikipedia.org/wiki/New_York_Stock_Exchange_Building\n",
      "https://en.wikipedia.org/wiki/Wall_Street\n",
      "https://en.wikipedia.org/wiki/Greenwich_Village\n",
      "https://en.wikipedia.org/wiki/New_York_University\n",
      "https://en.wikipedia.org/wiki/Harlem\n",
      "https://en.wikipedia.org/wiki/Koreatown,_Manhattan\n",
      "https://en.wikipedia.org/wiki/Lincoln_Center\n",
      "https://en.wikipedia.org/wiki/Metropolitan_Museum_of_Art\n",
      "https://en.wikipedia.org/wiki/Pennsylvania_Station_(New_York_City)\n",
      "https://en.wikipedia.org/wiki/National_September_11_Museum\n",
      "https://en.wikipedia.org/wiki/World_Trade_Center_(2001%E2%80%93present)\n",
      "https://en.wikipedia.org/wiki/Times_Square\n",
      "https://en.wikipedia.org/wiki/Rockefeller_Center\n",
      "https://en.wikipedia.org/wiki/Flushing,_Queens\n",
      "https://en.wikipedia.org/wiki/Elmhurst,_Queens#Chinatown,_Elmhurst_(%E5%94%90%E4%BA%BA%E8%A1%97,_%E8%89%BE%E5%A7%86%E8%B5%AB%E6%96%AF%E7%89%B9)\n",
      "https://en.wikipedia.org/wiki/Queens\n",
      "https://en.wikipedia.org/wiki/John_F._Kennedy_International_Airport\n",
      "https://en.wikipedia.org/wiki/Flushing_Meadows%E2%80%93Corona_Park\n",
      "https://en.wikipedia.org/wiki/LaGuardia_Airport\n",
      "https://en.wikipedia.org/wiki/Downtown_Flushing\n",
      "https://en.wikipedia.org/wiki/St._Albans,_Queens#Addisleigh_Park_subsection\n",
      "https://en.wikipedia.org/wiki/Long_Island_City\n",
      "https://en.wikipedia.org/wiki/Queensboro_Bridge\n",
      "https://en.wikipedia.org/wiki/Citi_Field\n",
      "https://en.wikipedia.org/wiki/Arthur_Ashe_Stadium\n",
      "https://en.wikipedia.org/wiki/Queens_Public_Library\n",
      "https://en.wikipedia.org/wiki/St._Michael%27s_Cemetery_(New_York)\n",
      "https://en.wikipedia.org/wiki/All_Faiths_Cemetery\n",
      "https://en.wikipedia.org/wiki/Calvary_Cemetery_(Queens)\n",
      "https://en.wikipedia.org/wiki/Cypress_Hills_Cemetery\n",
      "https://en.wikipedia.org/wiki/Mount_Olivet_Cemetery_(Queens)\n",
      "https://en.wikipedia.org/wiki/Mount_Zion_Cemetery_(New_York_City)\n",
      "https://en.wikipedia.org/wiki/Jackson_Heights,_Queens\n",
      "https://en.wikipedia.org/wiki/Staten_Island\n",
      "https://en.wikipedia.org/wiki/Verrazzano-Narrows_Bridge\n",
      "https://en.wikipedia.org/wiki/Staten_Island_Zoo\n",
      "https://en.wikipedia.org/wiki/Staten_Island_Ferry\n",
      "https://en.wikipedia.org/wiki/College_of_Staten_Island\n",
      "https://en.wikipedia.org/wiki/Historic_Richmond_Town\n",
      "https://en.wikipedia.org/wiki/Staten_Island_Borough_Hall\n",
      "https://en.wikipedia.org/wiki/Great_Kills_Park\n",
      "https://en.wikipedia.org/wiki/Miller_Field_(Staten_Island)\n",
      "https://en.wikipedia.org/wiki/Fort_Wadsworth\n",
      "https://en.wikipedia.org/wiki/Conference_House_Park\n",
      "https://en.wikipedia.org/wiki/Willowbrook_Park\n",
      "https://en.wikipedia.org/wiki/Empire_Outlets\n",
      "https://en.wikipedia.org/wiki/St._George_Terminal\n",
      "https://en.wikipedia.org/wiki/Postcards_(memorial)\n",
      "https://en.wikipedia.org/wiki/Sailors%27_Snug_Harbor\n",
      "https://en.wikipedia.org/wiki/SIUH_Community_Park\n"
     ]
    }
   ],
   "source": [
    "urls = {\n",
    "    \"Bronx\": [\"https://en.wikipedia.org/wiki/The_Bronx\",\"https://en.wikipedia.org/wiki/Co-op_City,_Bronx\",\"https://en.wikipedia.org/wiki/Yankee_Stadium\", \"https://en.wikipedia.org/wiki/Bronx_Zoo\", \"https://en.wikipedia.org/wiki/Bronx_Museum_of_the_Arts\", \"https://en.wikipedia.org/wiki/The_Hub,_Bronx\", \"https://en.wikipedia.org/wiki/Morris_Heights,_Bronx\",\"https://en.wikipedia.org/wiki/Pelham_Bay_Park\",\"https://en.wikipedia.org/wiki/Van_Cortlandt_Park\",\"https://en.wikipedia.org/wiki/Bronx_Park\",\"https://en.wikipedia.org/wiki/Crotona_Park\",\"https://en.wikipedia.org/wiki/St._Mary%27s_Park_(Bronx)\",\"https://en.wikipedia.org/wiki/St._James_Park_(Bronx)\",\"https://en.wikipedia.org/wiki/Macombs_Dam_Park\",\"https://en.wikipedia.org/wiki/Henry_Hudson_Park\",\"https://en.wikipedia.org/wiki/Ferry_Point_Park\",\"https://en.wikipedia.org/wiki/Soundview_Park_(Bronx)\",\"https://en.wikipedia.org/wiki/Pregones_Theater\",\"https://en.wikipedia.org/wiki/Bronx_Academy_of_Arts_and_Dance\",\"https://en.wikipedia.org/wiki/Fordham_Road\",\"https://en.wikipedia.org/wiki/Bay_Plaza_Shopping_Center\"], \n",
    "    \"Brooklyn\": [\"https://en.wikipedia.org/wiki/Brooklyn\",\"https://en.wikipedia.org/wiki/Downtown_Brooklyn\",\"https://en.wikipedia.org/wiki/Brooklyn_Bridge\",\"https://en.wikipedia.org/wiki/Coney_Island\",\"https://en.wikipedia.org/wiki/Brooklyn_Museum\", \"https://en.wikipedia.org/wiki/Brooklyn_Borough_Hall\",\"https://en.wikipedia.org/wiki/Barclays_Center\",\"https://en.wikipedia.org/wiki/Brooklyn_College\",\"https://en.wikipedia.org/wiki/Greenpoint,_Brooklyn\",\"https://en.wikipedia.org/wiki/Sunset_Park,_Brooklyn\",\"https://en.wikipedia.org/wiki/Eighth_Avenue_(Brooklyn)#Chinatown\",\"https://en.wikipedia.org/wiki/Brooklyn_Botanic_Garden\",\"https://en.wikipedia.org/wiki/Grand_Army_Plaza\",\"https://en.wikipedia.org/wiki/The_Brooklyn_Tower\",\"https://en.wikipedia.org/wiki/Floyd_Bennett_Field\",\"https://en.wikipedia.org/wiki/New_York_Transit_Museum\",\"https://en.wikipedia.org/wiki/Prospect_Park_(Brooklyn)\",\"https://en.wikipedia.org/wiki/Prospect_Park_Zoo\",\"https://en.wikipedia.org/wiki/Fort_Greene_Park\"],\n",
    "    \"Manhattan\":[\"https://en.wikipedia.org/wiki/Manhattan\", \"https://en.wikipedia.org/wiki/American_Museum_of_Natural_History\", \"https://en.wikipedia.org/wiki/The_Battery_(Manhattan)\", \"https://en.wikipedia.org/wiki/Broadway_(Manhattan)\", \"https://en.wikipedia.org/wiki/Theater_District,_Manhattan\", \"https://en.wikipedia.org/wiki/Bryant_Park\", \"https://en.wikipedia.org/wiki/Central_Park\", \"https://en.wikipedia.org/wiki/Chinatown,_Manhattan\", \"https://en.wikipedia.org/wiki/Chrysler_Building\", \"https://en.wikipedia.org/wiki/The_Cloisters\", \"https://en.wikipedia.org/wiki/Columbia_University\", \"https://en.wikipedia.org/wiki/Empire_State_Building\", \"https://en.wikipedia.org/wiki/Flatiron_Building\", \"https://en.wikipedia.org/wiki/Financial_District,_Manhattan\", \"https://en.wikipedia.org/wiki/New_York_Stock_Exchange_Building\", \"https://en.wikipedia.org/wiki/Wall_Street\", \"https://en.wikipedia.org/wiki/Greenwich_Village\", \"https://en.wikipedia.org/wiki/New_York_University\",\"https://en.wikipedia.org/wiki/Harlem\", \"https://en.wikipedia.org/wiki/Koreatown,_Manhattan\", \"https://en.wikipedia.org/wiki/Lincoln_Center\", \"https://en.wikipedia.org/wiki/Metropolitan_Museum_of_Art\", \"https://en.wikipedia.org/wiki/Pennsylvania_Station_(New_York_City)\", \"https://en.wikipedia.org/wiki/National_September_11_Museum\", \"https://en.wikipedia.org/wiki/World_Trade_Center_(2001%E2%80%93present)\", \"https://en.wikipedia.org/wiki/Times_Square\",\"https://en.wikipedia.org/wiki/Rockefeller_Center\"],\n",
    "    \"Queens\": [\"https://en.wikipedia.org/wiki/Flushing,_Queens\",\"https://en.wikipedia.org/wiki/Elmhurst,_Queens#Chinatown,_Elmhurst_(%E5%94%90%E4%BA%BA%E8%A1%97,_%E8%89%BE%E5%A7%86%E8%B5%AB%E6%96%AF%E7%89%B9)\",\"https://en.wikipedia.org/wiki/Queens\", \"https://en.wikipedia.org/wiki/John_F._Kennedy_International_Airport\", \"https://en.wikipedia.org/wiki/Flushing_Meadows%E2%80%93Corona_Park\", \"https://en.wikipedia.org/wiki/LaGuardia_Airport\", \"https://en.wikipedia.org/wiki/Downtown_Flushing\", \"https://en.wikipedia.org/wiki/St._Albans,_Queens#Addisleigh_Park_subsection\",\"https://en.wikipedia.org/wiki/Long_Island_City\", \"https://en.wikipedia.org/wiki/Queensboro_Bridge\", \"https://en.wikipedia.org/wiki/Citi_Field\", \"https://en.wikipedia.org/wiki/Arthur_Ashe_Stadium\", \"https://en.wikipedia.org/wiki/Queens_Public_Library\", \"https://en.wikipedia.org/wiki/St._Michael%27s_Cemetery_(New_York)\",\"https://en.wikipedia.org/wiki/All_Faiths_Cemetery\",\"https://en.wikipedia.org/wiki/Calvary_Cemetery_(Queens)\", \"https://en.wikipedia.org/wiki/Cypress_Hills_Cemetery\", \"https://en.wikipedia.org/wiki/Mount_Olivet_Cemetery_(Queens)\", \"https://en.wikipedia.org/wiki/Mount_Zion_Cemetery_(New_York_City)\",\"https://en.wikipedia.org/wiki/Jackson_Heights,_Queens\"],\n",
    "    \"Staten Island\":[\"https://en.wikipedia.org/wiki/Staten_Island\",\"https://en.wikipedia.org/wiki/Verrazzano-Narrows_Bridge\",\"https://en.wikipedia.org/wiki/Staten_Island_Zoo\",\"https://en.wikipedia.org/wiki/Staten_Island_Ferry\",\"https://en.wikipedia.org/wiki/College_of_Staten_Island\",\"https://en.wikipedia.org/wiki/Historic_Richmond_Town\",\"https://en.wikipedia.org/wiki/Staten_Island_Borough_Hall\",\"https://en.wikipedia.org/wiki/Great_Kills_Park\", \"https://en.wikipedia.org/wiki/Miller_Field_(Staten_Island)\",\"https://en.wikipedia.org/wiki/Fort_Wadsworth\", \"https://en.wikipedia.org/wiki/Conference_House_Park\", \"https://en.wikipedia.org/wiki/Willowbrook_Park\", \"https://en.wikipedia.org/wiki/Empire_Outlets\",\"https://en.wikipedia.org/wiki/St._George_Terminal\",\"https://en.wikipedia.org/wiki/Postcards_(memorial)\",\"https://en.wikipedia.org/wiki/Sailors%27_Snug_Harbor\",\"https://en.wikipedia.org/wiki/SIUH_Community_Park\"],\n",
    "}\n",
    "\n",
    "temp = []\n",
    "for info in urls.items():\n",
    "    temp_text=\"\"\n",
    "    for url in info[1]:\n",
    "        \n",
    "        print(url)\n",
    "        page = \"\"\n",
    "        r = requests.get(url)\n",
    "        soup = BeautifulSoup(r.content)\n",
    "        texts = soup.find_all(\"p\")\n",
    "        for text in texts:\n",
    "            page +=text.text\n",
    "        temp_text+=page\n",
    "    temp.append(temp_text)"
   ]
  },
  {
   "cell_type": "code",
   "execution_count": 45,
   "metadata": {},
   "outputs": [
    {
     "name": "stdout",
     "output_type": "stream",
     "text": [
      "65493\n",
      "108013\n",
      "191659\n",
      "73887\n",
      "43889\n"
     ]
    }
   ],
   "source": [
    "for borough in temp:\n",
    "    print(len(borough.split(\" \")))\n",
    "#manhatten\n",
    "#brooklyn\n",
    "#queens\n",
    "#bronx\n",
    "#state island"
   ]
  }
 ],
 "metadata": {
  "kernelspec": {
   "display_name": "Python 3.9.13 ('ANN')",
   "language": "python",
   "name": "python3"
  },
  "language_info": {
   "codemirror_mode": {
    "name": "ipython",
    "version": 3
   },
   "file_extension": ".py",
   "mimetype": "text/x-python",
   "name": "python",
   "nbconvert_exporter": "python",
   "pygments_lexer": "ipython3",
   "version": "3.10.0"
  },
  "orig_nbformat": 4,
  "vscode": {
   "interpreter": {
    "hash": "e253e861da49e0bbccda70175bce74f3442aedb410e74d034432e289d13936b5"
   }
  }
 },
 "nbformat": 4,
 "nbformat_minor": 2
}

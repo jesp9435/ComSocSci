{
 "cells": [
  {
   "cell_type": "code",
   "execution_count": 1,
   "metadata": {},
   "outputs": [],
   "source": [
    "import networkx as nx\n",
    "from collections import defaultdict\n",
    "from itertools import combinations\n",
    "from bs4 import BeautifulSoup  \n",
    "import json\n",
    "import pandas as pd\n",
    "import concurrent.futures \n",
    "import requests\n",
    "import math\n",
    "import csv\n",
    "from collections import Counter\n",
    "import ast\n",
    "import netwulf as nw\n",
    "import matplotlib.pyplot as plt\n",
    "import pickle\n",
    "from selenium import webdriver\n",
    "from selenium.webdriver.common.by import By\n",
    "from webdriver_manager.chrome import ChromeDriverManager\n",
    "from selenium.webdriver.chrome.service import Service\n",
    "from selenium.webdriver.chrome.options import Options\n",
    "from selenium.webdriver.common.keys import Keys\n",
    "from selenium.webdriver.support.ui import WebDriverWait\n",
    "from selenium.webdriver.support import expected_conditions as EC\n"
   ]
  },
  {
   "cell_type": "code",
   "execution_count": 48,
   "metadata": {},
   "outputs": [],
   "source": [
    "dictionaries = []\n",
    "def process_data(date):\n",
    "    link = \"https://www.wunderground.com/history/daily/us/ny/new-york-city/KLGA/date/\"\n",
    "    link += date\n",
    "    chrome_prefs = {\n",
    "        \"profile.default_content_settings.cookies\": 1  \n",
    "    }\n",
    "    chrome_options = webdriver.ChromeOptions()\n",
    "    chrome_options.add_experimental_option(\"prefs\", chrome_prefs)\n",
    "    service = Service(ChromeDriverManager().install())\n",
    "    driver = webdriver.Chrome(service=service, options=chrome_options)\n",
    "    driver.get(link)\n",
    "    driver.implicitly_wait(15)\n",
    "    table = driver.find_element(By.XPATH, '//*[@id=\"inner-content\"]/div[2]/div[1]/div[5]/div[1]/div/lib-city-history-observation/div/div[2]/table')\n",
    "    rows = table.find_elements(By.TAG_NAME, 'tr')\n",
    "    rows.pop(0)\n",
    "    weather_data = {}\n",
    "    attributes = ['Temperature', 'Dew Point', 'Humidity', 'Wind', 'Wind Speed', 'Wind Gust', 'Pressure', 'Precip.', 'Condition']\n",
    "    \n",
    "    for row in rows:\n",
    "        if(len(row.text)>3):\n",
    "            parts = row.text.strip().split(\" \")\n",
    "            \n",
    "            time = ' '.join(parts[:2])\n",
    "            details = {\n",
    "                attributes[0]: parts[2] + ' ' + parts[3],  # Temperature\n",
    "                attributes[1]: parts[4] + ' ' + parts[5],  # Dew Point\n",
    "                attributes[2]: parts[6] + ' ' + parts[7],  # Humidity\n",
    "                attributes[3]: parts[8],                   # Wind\n",
    "                attributes[4]: parts[9],                   # Wind Speed\n",
    "                attributes[5]: parts[11],                  # Wind Gust\n",
    "                attributes[6]: parts[13] + ' ' + parts[14],# Pressure\n",
    "                attributes[7]: parts[15] + ' ' + parts[16],# Precip.\n",
    "                attributes[8]: ' '.join(parts[17:])                   # Condition\n",
    "                }\n",
    "            weather_data[time] = details\n",
    "    driver.quit()\n",
    "    dictionaries.append(weather_data)\n"
   ]
  },
  {
   "cell_type": "code",
   "execution_count": 94,
   "metadata": {},
   "outputs": [
    {
     "name": "stdout",
     "output_type": "stream",
     "text": [
      "1\n",
      "2\n",
      "3\n",
      "4\n",
      "5\n",
      "6\n",
      "7\n",
      "8\n",
      "9\n",
      "10\n",
      "11\n",
      "12\n",
      "13\n",
      "14\n",
      "15\n",
      "16\n",
      "17\n",
      "18\n",
      "19\n",
      "20\n",
      "21\n",
      "22\n",
      "23\n",
      "24\n",
      "25\n",
      "26\n",
      "27\n",
      "28\n",
      "29\n",
      "30\n",
      "31\n"
     ]
    }
   ],
   "source": [
    "dates = []\n",
    "#dictionaries = []\n",
    "for i in range(31):\n",
    "    day = i+1\n",
    "    print(day)\n",
    "    dates.append(\"2023-5-\"+str(day))  "
   ]
  },
  {
   "cell_type": "code",
   "execution_count": 12,
   "metadata": {},
   "outputs": [
    {
     "data": {
      "text/plain": [
       "\" with open('transformed_data.json', 'w') as file:\\n    json.dump(annual_data, file, indent=4) \""
      ]
     },
     "execution_count": 12,
     "metadata": {},
     "output_type": "execute_result"
    }
   ],
   "source": [
    "annual_data = {}\n"
   ]
  },
  {
   "cell_type": "code",
   "execution_count": null,
   "metadata": {},
   "outputs": [],
   "source": [
    "with open('transformed_data.json', 'r') as file:\n",
    "    data = json.load(file)\n",
    "average_per_year = []\n",
    "for year in data.items():\n",
    "    average_per_month = []\n",
    "    for day in year[1].items():\n",
    "        sum = 0.0\n",
    "        for time in day[1].items():\n",
    "            precip = time[1][\"Precip.\"].strip(\"in\").strip(\" \")\n",
    "            sum += float(precip)\n",
    "        average = float(sum/len(day))\n",
    "        average_per_month.append(average)\n",
    "    average_per_year.append(average_per_month)\n",
    "\n"
   ]
  },
  {
   "cell_type": "code",
   "execution_count": 81,
   "metadata": {},
   "outputs": [
    {
     "name": "stdout",
     "output_type": "stream",
     "text": [
      "[0.0, 0.0, 0.0, 0.0, 0.0, 0.0, 0.0, 2.150000000000001, 0.5, 0.0, 0.8999999999999999, 0.0, 0.0, 0.0, 0.0, 0.0, 0.0, 0.0, 0.05, 0.0, 0.0, 0.0, 0.5, 0.05, 0.0, 0.0, 0.0, 0.3, 0.0, 0.0, 0.0]\n",
      "[0.39999999999999997, 0.0, 0.0, 0.0, 0.0, 0.0, 0.0, 0.25, 0.0, 1.0, 0.0, 0.0, 0.0, 0.0, 0.05, 1.35, 0.0, 0.0, 0.0, 0.0, 0.0, 0.15000000000000002, 0.6000000000000001, 0.2, 0.0, 0.0, 0.0, 0.0, 0.0, 0.0, 0.0]\n",
      "[0.0, 0.0, 0.0, 0.0, 0.0, 0.0, 0.0, 0.0, 0.0, 0.0, 0.0, 0.0, 0.0, 0.0, 0.0, 0.1, 0.05, 0.0, 0.0, 0.0, 0.0, 0.0, 0.0, 0.0, 0.0, 0.0, 0.0, 0.0, 0.0, 0.0, 1.9500000000000004]\n",
      "[0.0, 0.0, 0.65, 0.0, 0.0, 0.65, 0.0, 0.1, 0.0, 0.0, 0.0, 0.0, 0.25, 0.0, 0.0, 0.0, 0.0, 0.0, 0.0, 0.0, 0.05, 0.05, 0.0, 0.15000000000000002, 0.0, 0.0, 0.0, 0.0, 0.0, 1.2000000000000002, 0.0]\n",
      "[0.0, 0.0, 0.0, 0.0, 2.6500000000000004, 0.0, 0.0, 0.0, 0.0, 0.0, 0.0, 0.0, 1.1500000000000001, 0.0, 0.0, 0.0, 0.0, 0.0, 0.0, 0.0, 0.0, 0.5, 0.0, 0.0, 0.44999999999999996, 0.3, 0.0, 0.0, 0.05, 0.0, 0.0]\n",
      "[0.0, 0.0, 0.0, 0.0, 0.0, 0.0, 0.0, 0.0, 0.0, 0.15000000000000002, 0.0, 0.05, 0.0, 0.0, 0.35, 0.35, 0.35, 0.0, 0.6499999999999999, 0.0, 0.0, 0.15000000000000002, 0.3, 0.0, 0.0, 0.0, 0.6499999999999999, 0.0, 0.0, 0.0, 0.0]\n",
      "[0.0, 0.0, 0.0, 0.25, 0.9, 0.0, 0.0, 0.0, 0.0, 0.0, 0.0, 0.9500000000000002, 0.25, 0.15000000000000002, 0.0, 0.0, 0.0, 0.0, 0.0, 0.0, 0.0, 0.0, 0.35, 0.0, 0.0, 0.2, 0.0, 0.15000000000000002, 1.55, 0.6000000000000001, 0.15000000000000002]\n",
      "[0.1, 0.0, 0.0, 0.0, 0.0, 0.0, 0.0, 0.15000000000000002, 0.0, 0.0, 0.05, 0.0, 0.0, 0.0, 0.0, 0.0, 0.0, 0.0, 0.0, 0.0, 0.0, 0.0, 0.39999999999999997, 0.0, 0.0, 0.0, 0.0, 0.0, 0.0, 0.0, 0.0]\n",
      "[0.0, 0.0, 0.1, 0.3, 0.2, 0.0, 0.0, 0.0, 0.25, 0.0, 0.0, 0.0, 0.0, 0.0, 0.0, 0.0, 0.0, 0.0, 0.0, 0.0, 0.0, 0.0, 0.0, 0.0, 0.0, 0.0, 0.05, 0.7499999999999999, 0.3, 0.55, 0.0]\n",
      "[0.0, 0.7000000000000001, 0.0, 0.05, 0.0, 0.49999999999999994, 0.6500000000000001, 0.0, 0.0, 0.0, 0.0, 0.0, 0.0, 0.15000000000000002, 0.0, 0.35, 0.0, 0.0, 0.75, 0.35000000000000003, 0.0, 0.0, 0.0, 0.0, 0.0, 0.0, 0.1, 0.1, 0.0, 0.0, 0.0]\n",
      "[0.0, 0.0, 0.0, 0.0, 0.0, 0.0, 0.0, 0.0, 0.0, 0.0, 0.0, 0.0, 0.0, 0.0, 0.0, 0.0, 0.0, 0.0, 0.0, 0.8500000000000001, 0.0, 0.0, 0.0, 0.0, 0.0, 0.0, 0.0, 0.0, 0.0, 0.0, 0.0]\n"
     ]
    }
   ],
   "source": [
    "for year in average_per_year:\n",
    "    print(year)"
   ]
  },
  {
   "cell_type": "code",
   "execution_count": 84,
   "metadata": {},
   "outputs": [],
   "source": [
    "max_difference = []\n",
    "for j in range(len(average_per_year[0])):\n",
    "    temp_max = 0.0\n",
    "    max_index = []\n",
    "    temp_min = 1.0\n",
    "    min_index = []\n",
    "    for i in range(len(average_per_year)):\n",
    "        if (float(average_per_year[i][j]) > temp_max):\n",
    "            temp_max = average_per_year[i][j]\n",
    "            max_index = [2013+i,1+j]\n",
    "        if float(average_per_year[i][j]) < temp_min:\n",
    "            temp_min = average_per_year[i][j]\n",
    "            min_index = [2013+i,1+j]\n",
    "    difference = temp_max-temp_min\n",
    "    max_difference.append([difference,max_index,min_index])\n",
    "\n",
    "    \n"
   ]
  },
  {
   "cell_type": "code",
   "execution_count": 85,
   "metadata": {},
   "outputs": [
    {
     "name": "stdout",
     "output_type": "stream",
     "text": [
      "[[0.39999999999999997, [2014, 1], [2013, 1]], [0.7000000000000001, [2022, 2], [2013, 2]], [0.65, [2016, 3], [2013, 3]], [0.3, [2021, 4], [2013, 4]], [2.6500000000000004, [2017, 5], [2013, 5]], [0.65, [2016, 6], [2013, 6]], [0.6500000000000001, [2022, 7], [2013, 7]], [2.150000000000001, [2013, 8], [2015, 8]], [0.5, [2013, 9], [2014, 9]], [1.0, [2014, 10], [2013, 10]], [0.8999999999999999, [2013, 11], [2014, 11]], [0.9500000000000002, [2019, 12], [2013, 12]], [1.1500000000000001, [2017, 13], [2013, 13]], [0.15000000000000002, [2019, 14], [2013, 14]], [0.35, [2018, 15], [2013, 15]], [1.35, [2014, 16], [2013, 16]], [0.35, [2018, 17], [2013, 17]], [0.0, [], [2013, 18]], [0.75, [2022, 19], [2014, 19]], [0.8500000000000001, [2023, 20], [2013, 20]], [0.05, [2016, 21], [2013, 21]], [0.5, [2017, 22], [2013, 22]], [0.6000000000000001, [2014, 23], [2015, 23]], [0.2, [2014, 24], [2015, 24]], [0.44999999999999996, [2017, 25], [2013, 25]], [0.3, [2017, 26], [2013, 26]], [0.6499999999999999, [2018, 27], [2013, 27]], [0.7499999999999999, [2021, 28], [2014, 28]], [1.55, [2019, 29], [2013, 29]], [1.2000000000000002, [2016, 30], [2013, 30]], [1.9500000000000004, [2015, 31], [2013, 31]]]\n"
     ]
    }
   ],
   "source": [
    "print(max_difference)"
   ]
  },
  {
   "cell_type": "code",
   "execution_count": 87,
   "metadata": {},
   "outputs": [],
   "source": [
    "with open('taxi_zones.json', 'r') as file:\n",
    "    taxi_zones = json.load(file)"
   ]
  },
  {
   "cell_type": "code",
   "execution_count": 109,
   "metadata": {},
   "outputs": [],
   "source": [
    "regions = {\n",
    "    \"Manhattan\": [],\n",
    "    \"Queens\": [],\n",
    "    \"Staten Island\": [],\n",
    "    \"Brooklyn\": [],\n",
    "    \"Bronx\": [],\n",
    "    \"EWR\": [],\n",
    "\n",
    "}\n",
    "for zone in taxi_zones[\"data\"]:\n",
    "    regions[zone[14]].append(zone[13])"
   ]
  },
  {
   "cell_type": "code",
   "execution_count": 110,
   "metadata": {},
   "outputs": [
    {
     "name": "stdout",
     "output_type": "stream",
     "text": [
      "{'Manhattan': ['4', '24', '12', '13', '41', '45', '42', '43', '48', '50', '68', '79', '74', '75', '87', '88', '90', '125', '100', '103', '103', '103', '107', '113', '114', '116', '120', '127', '128', '151', '140', '137', '141', '142', '152', '143', '144', '148', '153', '158', '161', '162', '163', '164', '170', '166', '186', '194', '202', '209', '211', '224', '229', '230', '231', '239', '232', '233', '234', '236', '237', '238', '263', '243', '244', '246', '249', '261', '262'], 'Queens': ['2', '7', '8', '9', '10', '15', '16', '19', '27', '28', '30', '38', '53', '56', '56', '64', '73', '70', '86', '82', '83', '92', '93', '95', '96', '98', '101', '102', '117', '121', '122', '124', '129', '134', '130', '139', '131', '132', '135', '138', '145', '146', '157', '160', '171', '173', '175', '179', '180', '191', '192', '193', '196', '203', '197', '198', '201', '205', '207', '215', '216', '218', '219', '226', '223', '258', '253', '252', '260'], 'Staten Island': ['5', '6', '23', '44', '84', '99', '109', '110', '115', '118', '156', '172', '176', '187', '204', '206', '214', '221', '245', '251'], 'Brooklyn': ['11', '25', '14', '22', '17', '21', '26', '33', '29', '34', '35', '36', '37', '39', '40', '49', '52', '54', '55', '61', '62', '63', '65', '72', '66', '67', '71', '80', '85', '76', '77', '89', '91', '97', '106', '108', '111', '112', '149', '150', '123', '133', '154', '155', '165', '178', '177', '181', '189', '190', '188', '195', '210', '217', '225', '222', '227', '228', '257', '255', '256'], 'Bronx': ['3', '18', '20', '31', '32', '46', '47', '51', '58', '59', '60', '69', '78', '81', '94', '119', '126', '136', '147', '159', '167', '168', '169', '174', '182', '183', '184', '185', '199', '212', '213', '200', '208', '220', '235', '240', '241', '242', '247', '248', '250', '254', '259'], 'EWR': ['1']}\n"
     ]
    }
   ],
   "source": [
    "print(regions)"
   ]
  }
 ],
 "metadata": {
  "kernelspec": {
   "display_name": "Python 3.9.13 ('ANN')",
   "language": "python",
   "name": "python3"
  },
  "language_info": {
   "codemirror_mode": {
    "name": "ipython",
    "version": 3
   },
   "file_extension": ".py",
   "mimetype": "text/x-python",
   "name": "python",
   "nbconvert_exporter": "python",
   "pygments_lexer": "ipython3",
   "version": "3.9.7"
  },
  "orig_nbformat": 4,
  "vscode": {
   "interpreter": {
    "hash": "e253e861da49e0bbccda70175bce74f3442aedb410e74d034432e289d13936b5"
   }
  }
 },
 "nbformat": 4,
 "nbformat_minor": 2
}

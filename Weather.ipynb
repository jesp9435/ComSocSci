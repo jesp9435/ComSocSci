{
 "cells": [
  {
   "cell_type": "code",
   "execution_count": 11,
   "metadata": {},
   "outputs": [],
   "source": [
    "import networkx as nx\n",
    "from collections import defaultdict\n",
    "from itertools import combinations\n",
    "from bs4 import BeautifulSoup  \n",
    "import json\n",
    "import pandas as pd\n",
    "import concurrent.futures \n",
    "import requests\n",
    "import math\n",
    "import csv\n",
    "from collections import Counter\n",
    "import ast\n",
    "import netwulf as nw\n",
    "import matplotlib.pyplot as plt\n",
    "import pickle\n",
    "from selenium import webdriver\n",
    "from selenium.webdriver.common.by import By\n",
    "from webdriver_manager.chrome import ChromeDriverManager\n",
    "from selenium.webdriver.chrome.service import Service\n",
    "from selenium.webdriver.chrome.options import Options\n",
    "from selenium.webdriver.common.keys import Keys\n",
    "from selenium.webdriver.support.ui import WebDriverWait\n",
    "from selenium.webdriver.support import expected_conditions as EC\n"
   ]
  },
  {
   "cell_type": "code",
   "execution_count": 48,
   "metadata": {},
   "outputs": [],
   "source": [
    "dictionaries = []\n",
    "def process_data(date):\n",
    "    link = \"https://www.wunderground.com/history/daily/us/ny/new-york-city/KLGA/date/\"\n",
    "    link += date\n",
    "    chrome_prefs = {\n",
    "        \"profile.default_content_settings.cookies\": 1  \n",
    "    }\n",
    "    chrome_options = webdriver.ChromeOptions()\n",
    "    chrome_options.add_experimental_option(\"prefs\", chrome_prefs)\n",
    "    service = Service(ChromeDriverManager().install())\n",
    "    driver = webdriver.Chrome(service=service, options=chrome_options)\n",
    "    driver.get(link)\n",
    "    driver.implicitly_wait(15)\n",
    "    table = driver.find_element(By.XPATH, '//*[@id=\"inner-content\"]/div[2]/div[1]/div[5]/div[1]/div/lib-city-history-observation/div/div[2]/table')\n",
    "    rows = table.find_elements(By.TAG_NAME, 'tr')\n",
    "    rows.pop(0)\n",
    "    weather_data = {}\n",
    "    attributes = ['Temperature', 'Dew Point', 'Humidity', 'Wind', 'Wind Speed', 'Wind Gust', 'Pressure', 'Precip.', 'Condition']\n",
    "    \n",
    "    for row in rows:\n",
    "        if(len(row.text)>3):\n",
    "            parts = row.text.strip().split(\" \")\n",
    "            \n",
    "            time = ' '.join(parts[:2])\n",
    "            details = {\n",
    "                attributes[0]: parts[2] + ' ' + parts[3],  # Temperature\n",
    "                attributes[1]: parts[4] + ' ' + parts[5],  # Dew Point\n",
    "                attributes[2]: parts[6] + ' ' + parts[7],  # Humidity\n",
    "                attributes[3]: parts[8],                   # Wind\n",
    "                attributes[4]: parts[9],                   # Wind Speed\n",
    "                attributes[5]: parts[11],                  # Wind Gust\n",
    "                attributes[6]: parts[13] + ' ' + parts[14],# Pressure\n",
    "                attributes[7]: parts[15] + ' ' + parts[16],# Precip.\n",
    "                attributes[8]: ' '.join(parts[17:])                   # Condition\n",
    "                }\n",
    "            weather_data[time] = details\n",
    "    driver.quit()\n",
    "    dictionaries.append(weather_data)\n"
   ]
  },
  {
   "cell_type": "code",
   "execution_count": 94,
   "metadata": {},
   "outputs": [
    {
     "name": "stdout",
     "output_type": "stream",
     "text": [
      "1\n",
      "2\n",
      "3\n",
      "4\n",
      "5\n",
      "6\n",
      "7\n",
      "8\n",
      "9\n",
      "10\n",
      "11\n",
      "12\n",
      "13\n",
      "14\n",
      "15\n",
      "16\n",
      "17\n",
      "18\n",
      "19\n",
      "20\n",
      "21\n",
      "22\n",
      "23\n",
      "24\n",
      "25\n",
      "26\n",
      "27\n",
      "28\n",
      "29\n",
      "30\n",
      "31\n"
     ]
    }
   ],
   "source": [
    "dates = []\n",
    "#dictionaries = []\n",
    "for i in range(31):\n",
    "    day = i+1\n",
    "    print(day)\n",
    "    dates.append(\"2023-5-\"+str(day))  "
   ]
  },
  {
   "cell_type": "code",
   "execution_count": 133,
   "metadata": {},
   "outputs": [
    {
     "name": "stdout",
     "output_type": "stream",
     "text": [
      "{'11:51 PM': {'Temperature': '54 °F', 'Dew Point': '26 °F', 'Humidity': '34 %', 'Wind': 'ESE', 'Wind Speed': '3', 'Wind Gust': '0', 'Pressure': '30.31 in', 'Precip.': '0.0 in', 'Condition': 'Fair'}, '12:51 AM': {'Temperature': '52 °F', 'Dew Point': '35 °F', 'Humidity': '53 %', 'Wind': 'CALM', 'Wind Speed': '0', 'Wind Gust': '0', 'Pressure': '30.32 in', 'Precip.': '0.0 in', 'Condition': 'Fair'}, '1:51 AM': {'Temperature': '52 °F', 'Dew Point': '34 °F', 'Humidity': '50 %', 'Wind': 'NE', 'Wind Speed': '3', 'Wind Gust': '0', 'Pressure': '30.33 in', 'Precip.': '0.0 in', 'Condition': 'Fair'}, '2:51 AM': {'Temperature': '51 °F', 'Dew Point': '35 °F', 'Humidity': '54 %', 'Wind': 'NE', 'Wind Speed': '5', 'Wind Gust': '0', 'Pressure': '30.32 in', 'Precip.': '0.0 in', 'Condition': 'Fair'}, '3:51 AM': {'Temperature': '51 °F', 'Dew Point': '0 °F', 'Humidity': '48 %', 'Wind': 'NE', 'Wind Speed': '5', 'Wind Gust': '0', 'Pressure': '30.34 in', 'Precip.': '0.0 in', 'Condition': 'Fair'}, '4:51 AM': {'Temperature': '50 °F', 'Dew Point': '33 °F', 'Humidity': '52 %', 'Wind': 'NE', 'Wind Speed': '5', 'Wind Gust': '0', 'Pressure': '30.35 in', 'Precip.': '0.0 in', 'Condition': 'Fair'}, '5:51 AM': {'Temperature': '49 °F', 'Dew Point': '35 °F', 'Humidity': '59 %', 'Wind': 'NNE', 'Wind Speed': '3', 'Wind Gust': '0', 'Pressure': '30.36 in', 'Precip.': '0.0 in', 'Condition': 'Partly Cloudy'}, '6:51 AM': {'Temperature': '50 °F', 'Dew Point': '35 °F', 'Humidity': '57 %', 'Wind': 'NNE', 'Wind Speed': '5', 'Wind Gust': '0', 'Pressure': '30.39 in', 'Precip.': '0.0 in', 'Condition': 'Fair'}, '7:51 AM': {'Temperature': '52 °F', 'Dew Point': '36 °F', 'Humidity': '54 %', 'Wind': 'NE', 'Wind Speed': '8', 'Wind Gust': '0', 'Pressure': '30.40 in', 'Precip.': '0.0 in', 'Condition': 'Fair'}, '8:51 AM': {'Temperature': '53 °F', 'Dew Point': '33 °F', 'Humidity': '47 %', 'Wind': 'NE', 'Wind Speed': '9', 'Wind Gust': '0', 'Pressure': '30.42 in', 'Precip.': '0.0 in', 'Condition': 'Fair'}, '9:51 AM': {'Temperature': '57 °F', 'Dew Point': '31 °F', 'Humidity': '37 %', 'Wind': 'NE', 'Wind Speed': '14', 'Wind Gust': '0', 'Pressure': '30.43 in', 'Precip.': '0.0 in', 'Condition': 'Fair'}, '10:51 AM': {'Temperature': '57 °F', 'Dew Point': '33 °F', 'Humidity': '40 %', 'Wind': 'NE', 'Wind Speed': '12', 'Wind Gust': '0', 'Pressure': '30.43 in', 'Precip.': '0.0 in', 'Condition': 'Fair'}, '11:51 AM': {'Temperature': '61 °F', 'Dew Point': '40 °F', 'Humidity': '46 %', 'Wind': 'NE', 'Wind Speed': '15', 'Wind Gust': '0', 'Pressure': '30.42 in', 'Precip.': '0.0 in', 'Condition': 'Fair'}, '12:51 PM': {'Temperature': '62 °F', 'Dew Point': '42 °F', 'Humidity': '48 %', 'Wind': 'NE', 'Wind Speed': '13', 'Wind Gust': '0', 'Pressure': '30.41 in', 'Precip.': '0.0 in', 'Condition': 'Fair'}, '1:51 PM': {'Temperature': '64 °F', 'Dew Point': '41 °F', 'Humidity': '43 %', 'Wind': 'NE', 'Wind Speed': '14', 'Wind Gust': '0', 'Pressure': '30.41 in', 'Precip.': '0.0 in', 'Condition': 'Fair'}, '2:51 PM': {'Temperature': '64 °F', 'Dew Point': '39 °F', 'Humidity': '40 %', 'Wind': 'NE', 'Wind Speed': '13', 'Wind Gust': '0', 'Pressure': '30.40 in', 'Precip.': '0.0 in', 'Condition': 'Fair'}, '3:51 PM': {'Temperature': '64 °F', 'Dew Point': '40 °F', 'Humidity': '41 %', 'Wind': 'NE', 'Wind Speed': '10', 'Wind Gust': '0', 'Pressure': '30.40 in', 'Precip.': '0.0 in', 'Condition': 'Partly Cloudy'}, '4:51 PM': {'Temperature': '66 °F', 'Dew Point': '40 °F', 'Humidity': '38 %', 'Wind': 'ESE', 'Wind Speed': '12', 'Wind Gust': '22', 'Pressure': '30.40 in', 'Precip.': '0.0 in', 'Condition': 'Fair'}, '5:51 PM': {'Temperature': '63 °F', 'Dew Point': '39 °F', 'Humidity': '41 %', 'Wind': 'SE', 'Wind Speed': '13', 'Wind Gust': '0', 'Pressure': '30.41 in', 'Precip.': '0.0 in', 'Condition': 'Fair'}, '6:51 PM': {'Temperature': '61 °F', 'Dew Point': '40 °F', 'Humidity': '46 %', 'Wind': 'SE', 'Wind Speed': '9', 'Wind Gust': '0', 'Pressure': '30.43 in', 'Precip.': '0.0 in', 'Condition': 'Partly Cloudy'}, '7:51 PM': {'Temperature': '58 °F', 'Dew Point': '41 °F', 'Humidity': '53 %', 'Wind': 'ESE', 'Wind Speed': '9', 'Wind Gust': '0', 'Pressure': '30.43 in', 'Precip.': '0.0 in', 'Condition': 'Fair'}, '8:51 PM': {'Temperature': '56 °F', 'Dew Point': '41 °F', 'Humidity': '57 %', 'Wind': 'SSE', 'Wind Speed': '6', 'Wind Gust': '0', 'Pressure': '30.45 in', 'Precip.': '0.0 in', 'Condition': 'Fair'}, '9:51 PM': {'Temperature': '55 °F', 'Dew Point': '41 °F', 'Humidity': '59 %', 'Wind': 'S', 'Wind Speed': '6', 'Wind Gust': '0', 'Pressure': '30.46 in', 'Precip.': '0.0 in', 'Condition': 'Fair'}, '10:51 PM': {'Temperature': '55 °F', 'Dew Point': '40 °F', 'Humidity': '57 %', 'Wind': 'CALM', 'Wind Speed': '0', 'Wind Gust': '0', 'Pressure': '30.46 in', 'Precip.': '0.0 in', 'Condition': 'Fair'}}\n"
     ]
    },
    {
     "ename": "TypeError",
     "evalue": "'str' object does not support item assignment",
     "output_type": "error",
     "traceback": [
      "\u001b[1;31m---------------------------------------------------------------------------\u001b[0m",
      "\u001b[1;31mTypeError\u001b[0m                                 Traceback (most recent call last)",
      "Cell \u001b[1;32mIn[133], line 25\u001b[0m\n\u001b[0;32m     23\u001b[0m     year \u001b[38;5;241m+\u001b[39m\u001b[38;5;241m=\u001b[39m \u001b[38;5;241m1\u001b[39m\n\u001b[0;32m     24\u001b[0m \u001b[38;5;28;01mfor\u001b[39;00m key,value \u001b[38;5;129;01min\u001b[39;00m dictionaries[i]\u001b[38;5;241m.\u001b[39mitems():\n\u001b[1;32m---> 25\u001b[0m     \u001b[43mtemp\u001b[49m\u001b[43m[\u001b[49m\u001b[38;5;28;43mstr\u001b[39;49m\u001b[43m(\u001b[49m\u001b[43mcount\u001b[49m\u001b[43m)\u001b[49m\u001b[43m]\u001b[49m\u001b[43m[\u001b[49m\u001b[38;5;28;43mstr\u001b[39;49m\u001b[43m(\u001b[49m\u001b[43mkey\u001b[49m\u001b[43m)\u001b[49m\u001b[43m]\u001b[49m \u001b[38;5;241m=\u001b[39m value\n\u001b[0;32m     28\u001b[0m weather_year[\u001b[38;5;28mstr\u001b[39m(year)]\u001b[38;5;241m.\u001b[39mappend(dictionaries[i])\n\u001b[0;32m     29\u001b[0m count \u001b[38;5;241m+\u001b[39m\u001b[38;5;241m=\u001b[39m \u001b[38;5;241m1\u001b[39m\n",
      "\u001b[1;31mTypeError\u001b[0m: 'str' object does not support item assignment"
     ]
    }
   ],
   "source": [
    "count = 0\n",
    "year = 2013\n",
    "weather_year = {\n",
    "    '2013' : \"\",\n",
    "    '2014' : \"\",\n",
    "    '2015' : \"\",\n",
    "    '2016' : \"\",\n",
    "    '2017' : \"\",\n",
    "    '2018' : \"\",\n",
    "    '2019' : \"\",\n",
    "    '2020' : \"\",\n",
    "    '2021' : \"\",\n",
    "    '2022' : \"\",\n",
    "    '2023' : \"\",\n",
    "}\n",
    "for i in range(len(dictionaries)):\n",
    "    temp = {\n",
    "        str(count) : '', \n",
    "    }\n",
    "    print(dictionaries[i])\n",
    "    if(count == 31):\n",
    "        count = 0\n",
    "        year += 1\n",
    "    for key,value in dictionaries[i].items():\n",
    "        temp[str(count)][str(key)] = value\n",
    "\n",
    "\n",
    "    weather_year[str(year)].append(dictionaries[i])\n",
    "    count += 1\n"
   ]
  },
  {
   "cell_type": "code",
   "execution_count": 132,
   "metadata": {},
   "outputs": [
    {
     "name": "stdout",
     "output_type": "stream",
     "text": [
      "{'0': ''}\n"
     ]
    }
   ],
   "source": []
  }
 ],
 "metadata": {
  "kernelspec": {
   "display_name": "Python 3.9.13 ('ANN')",
   "language": "python",
   "name": "python3"
  },
  "language_info": {
   "codemirror_mode": {
    "name": "ipython",
    "version": 3
   },
   "file_extension": ".py",
   "mimetype": "text/x-python",
   "name": "python",
   "nbconvert_exporter": "python",
   "pygments_lexer": "ipython3",
   "version": "3.10.0"
  },
  "orig_nbformat": 4,
  "vscode": {
   "interpreter": {
    "hash": "e253e861da49e0bbccda70175bce74f3442aedb410e74d034432e289d13936b5"
   }
  }
 },
 "nbformat": 4,
 "nbformat_minor": 2
}

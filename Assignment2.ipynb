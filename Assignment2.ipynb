{
 "cells": [
  {
   "cell_type": "markdown",
   "metadata": {},
   "source": [
    "Link to GitHub repository [here](https://github.com/jesp9435/ComSocSci)\n",
    "\n",
    "Group member contributions: Both group members contributed equally to the parts of the assignment. We have worked collaboratively on all parts. "
   ]
  },
  {
   "cell_type": "markdown",
   "metadata": {},
   "source": [
    "# Part 1: Properties of the real-world network of Computational Social Scientists"
   ]
  },
  {
   "cell_type": "code",
   "execution_count": 55,
   "metadata": {},
   "outputs": [],
   "source": [
    "# Relevant imports:\n",
    "import numpy as np\n",
    "import matplotlib.pyplot as plt\n",
    "import pandas as pd\n",
    "import csv\n",
    "import networkx as nx\n",
    "import netwulf as nw\n",
    "import numpy as np\n",
    "import pickle"
   ]
  },
  {
   "cell_type": "code",
   "execution_count": null,
   "metadata": {},
   "outputs": [],
   "source": [
    "# These numbers were found in Assignment 1\n",
    "amount_of_nodes = 14196\n",
    "amount_of_edges = 54304\n",
    "\n",
    "# We use equation 3.2 from the book and solve for p:\n",
    "probability = amount_of_edges/((amount_of_nodes*(amount_of_nodes-1))/2)\n",
    "print(\"Probability: \" + str(probability))\n",
    "\n",
    "# The average degree can be found from equation 3.3:\n",
    "k = probability*(amount_of_nodes-1.0)\n",
    "print(\"Average degree: \" + str(k))\n",
    "\n",
    "# Generating a Random Network with node count mirroring Computational Social Scientists network\n",
    "# using our calculated probability:\n",
    "RG = nx.gnp_random_graph(amount_of_nodes, probability, seed=1000, directed=False)\n",
    "#nw.interactive.visualize(RG)"
   ]
  },
  {
   "cell_type": "markdown",
   "metadata": {},
   "source": [
    "Answer the following questions (max 200 words in total):\n",
    "\n",
    "What regime does your random network fall into? Is it above or below the critical threshold?\n",
    "According to the textbook, what does the network's structure resemble in this regime?\n",
    "Based on your visualizations, identify the key differences between the actual and the random networks. Explain whether these differences are consistent with theoretical expectations."
   ]
  },
  {
   "cell_type": "code",
   "execution_count": null,
   "metadata": {},
   "outputs": [],
   "source": [
    "# Computing distribution of degree for the random network:\n",
    "degrees_random = [degree for node, degree in RG.degree()]\n",
    "hist, bins = np.histogram(degrees_random, bins=20, density=True)\n",
    "\n",
    "# Plot the degree distribution\n",
    "plt.figure(figsize=(6, 4))\n",
    "plt.hist(degrees_random, bins=bins, density=True, alpha=0.7, edgecolor = \"black\")\n",
    "plt.xlabel('Degree')\n",
    "plt.xlim(0,20)\n",
    "plt.ylabel('Frequency')\n",
    "plt.title('Degree Distribution of Random Network')\n",
    "plt.grid(True)\n",
    "plt.show()\n",
    "\n",
    "# Accessing the network from Assignment 1:\n",
    "with open(\"my_network.pickle\", \"rb\") as f:\n",
    "    G = pickle.load(f)\n",
    "\n",
    "# Computing distribution of degree for the Social network:\n",
    "degrees_social = [degree for node, degree in G.degree()]\n",
    "hist, bins = np.histogram(degrees_social, bins=200, density=False)\n",
    "\n",
    "# Plot the degree distribution\n",
    "plt.figure(figsize=(6, 4))\n",
    "plt.hist(degrees_social, bins=bins, density=True, alpha=0.7, edgecolor = \"black\")\n",
    "plt.xlabel('Degree')\n",
    "plt.xlim(0,40)\n",
    "plt.ylabel('Frequency')\n",
    "plt.title('Degree Distribution of Social Network')\n",
    "plt.grid(True)\n",
    "plt.show()\n",
    "\n",
    "\n"
   ]
  },
  {
   "cell_type": "code",
   "execution_count": null,
   "metadata": {},
   "outputs": [],
   "source": [
    "import matplotlib.pyplot as plt\n",
    "import networkx as nx\n",
    "import numpy as np\n",
    "import pickle\n",
    "\n",
    "# Function to generate a random network\n",
    "def generate_random_network(node_count, p):\n",
    "    G = nx.Graph()\n",
    "    G.add_nodes_from(range(node_count))\n",
    "    for i in range(node_count):\n",
    "        for j in range(i + 1, node_count):  \n",
    "            if np.random.uniform(0, 1) < p:\n",
    "                G.add_edge(i, j)\n",
    "    return G\n",
    "\n",
    "# Parameters for the social network\n",
    "amount_of_nodes = 14196\n",
    "amount_of_edges = 54304\n",
    "probability = amount_of_edges / ((amount_of_nodes * (amount_of_nodes - 1)) / 2)\n",
    "\n",
    "# Generate random network\n",
    "RG = nx.gnp_random_graph(amount_of_nodes, probability, seed=1000, directed=False)\n",
    "degrees_random = [degree for node, degree in RG.degree()]\n",
    "\n",
    "# Load social network\n",
    "with open(\"my_network.pickle\", \"rb\") as f:\n",
    "    G = pickle.load(f)\n",
    "degrees_social = [degree for node, degree in G.degree()]\n",
    "\n",
    "# Compute average degree for random and social networks\n",
    "avg_degree_random = np.mean(degrees_random)\n",
    "avg_degree_social = np.mean(degrees_social)\n",
    "\n",
    "# Plot both degree distributions\n",
    "plt.figure(figsize=(10, 6))\n",
    "plt.plot(sorted(degrees_random), label='Random Network')\n",
    "plt.plot(sorted(degrees_social), label='Social Network')\n",
    "plt.xlabel('Node Index (Sorted by Degree)')\n",
    "plt.ylabel('Degree')\n",
    "plt.title('Degree Distribution Comparison')\n",
    "plt.grid(True)\n",
    "plt.legend()\n",
    "\n",
    "# Add vertical lines for average degrees\n",
    "plt.axhline(y=avg_degree_random, color='r', linestyle='--', label=f'Average Degree Random: {avg_degree_random:.2f}')\n",
    "plt.axhline(y=avg_degree_social, color='g', linestyle='--', label=f'Average Degree Social: {avg_degree_social:.2f}')\n",
    "\n",
    "plt.xlim(0, len(degrees_random))  # Adjust x-axis limits\n",
    "\n",
    "plt.legend()\n",
    "plt.show()\n"
   ]
  },
  {
   "cell_type": "markdown",
   "metadata": {},
   "source": [
    "# Part 2: Network Analysis in Computational Social Science"
   ]
  },
  {
   "cell_type": "code",
   "execution_count": null,
   "metadata": {},
   "outputs": [],
   "source": [
    "# Part 1: Assortativity Coefficient\n",
    "# This function calculates the Assortativity Coefficient for the network based on the country of each node:\n",
    "def assortativity_coefficient(G, attribute):\n",
    "    m = G.number_of_edges()\n",
    "    k = sum(dict(G.degree()).values())\n",
    "\n",
    "    e_i = 0\n",
    "    a_i = 0\n",
    "\n",
    "    for u, v in G.edges():\n",
    "        if G.nodes[u][attribute] == G.nodes[v][attribute]:\n",
    "            e_i += G.degree[u] * G.degree[v]\n",
    "        a_i += G.degree[u] + G.degree[v]\n",
    "\n",
    "    r = (e_i / m - (0.5 * a_i / m)**2) / (0.5 * a_i / m - (0.5 * a_i / m)**2)\n",
    "    return r\n",
    "\n",
    "# Using the function to calculate the Assortativity Coefficient:\n",
    "assortativity = assortativity_coefficient(G, 'country_code')\n",
    "print(\"Assortativity coefficient based on country attribute:\", assortativity)\n"
   ]
  },
  {
   "cell_type": "markdown",
   "metadata": {},
   "source": [
    "# Part 3: Words that characterize Computational Social Science communities"
   ]
  },
  {
   "cell_type": "markdown",
   "metadata": {},
   "source": [
    "##### Exercise 1: TF-IDF and the Computational Social Science communities\n",
    "\n",
    "* TF-IDF is a statistical measure used in natural language processing and information retrieval to evaluate the importance of a word in a document within a larger collection of documents. The main purpose of TF-IDF is to highlight words that are significant to a specific document while downplaying words that are common across many documents.\n",
    "* TF stands for Term Frequency and is simply, as the name suggests, a calculation of the frequency of a term in a specific document. \n",
    "* IDF stands for Inverse Document Frequency and is a measure of a terms's rarity across all documents in the collection."
   ]
  }
 ],
 "metadata": {
  "kernelspec": {
   "display_name": "Python 3.9.13 ('ANN')",
   "language": "python",
   "name": "python3"
  },
  "language_info": {
   "codemirror_mode": {
    "name": "ipython",
    "version": 3
   },
   "file_extension": ".py",
   "mimetype": "text/x-python",
   "name": "python",
   "nbconvert_exporter": "python",
   "pygments_lexer": "ipython3",
   "version": "3.9.13"
  },
  "orig_nbformat": 4,
  "vscode": {
   "interpreter": {
    "hash": "e253e861da49e0bbccda70175bce74f3442aedb410e74d034432e289d13936b5"
   }
  }
 },
 "nbformat": 4,
 "nbformat_minor": 2
}

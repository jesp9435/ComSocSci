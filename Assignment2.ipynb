{
 "cells": [
  {
   "cell_type": "markdown",
   "metadata": {},
   "source": [
    "Link to GitHub repository [here](https://github.com/jesp9435/ComSocSci)\n",
    "\n",
    "Group member contributions: Both group members contributed equally to the parts of the assignment. We have worked collaboratively on all parts. "
   ]
  },
  {
   "cell_type": "markdown",
   "metadata": {},
   "source": [
    "# Part 1: Properties of the real-world network of Computational Social Scientists"
   ]
  },
  {
   "cell_type": "code",
   "execution_count": 15,
   "metadata": {},
   "outputs": [],
   "source": [
    "# Relevant imports:\n",
    "import numpy as np\n",
    "import matplotlib.pyplot as plt\n",
    "import pandas as pd\n",
    "import csv\n",
    "import networkx as nx\n",
    "import netwulf as nw\n",
    "import numpy as np\n",
    "import pickle"
   ]
  },
  {
   "cell_type": "code",
   "execution_count": 39,
   "metadata": {},
   "outputs": [
    {
     "name": "stdout",
     "output_type": "stream",
     "text": [
      "0.0005389648330011947\n",
      "7.650605804451958\n"
     ]
    }
   ],
   "source": [
    "# These numbers were found in Assignment 1\n",
    "amount_of_nodes = 14196\n",
    "amount_of_edges = 54304\n",
    "\n",
    "# We use equation 3.2 from the book and solve for p:\n",
    "probability = amount_of_edges/((amount_of_nodes*(amount_of_nodes-1))/2)\n",
    "print(probability)\n",
    "\n",
    "# The average degree can be found from equation 3.3:\n",
    "k = probability*(amount_of_nodes-1.0)\n",
    "print(k)\n",
    "\n",
    "# Generating a Random Network with node count mirroring Computational Social Scientists network\n",
    "# using our calculated probability:\n",
    "RG = nx.gnp_random_graph(amount_of_nodes, probability, seed=1000, directed=False)\n",
    "nw.interactive.visualize(RG)\n",
    "\n",
    "# Computing distribution of degree for the random network:\n",
    "degrees_random = [degree for node, degree in RG.degree()]\n",
    "hist, bins = np.histogram(degrees_random, bins=20, density=True)\n",
    "\n",
    "# Plot the degree distribution\n",
    "plt.figure(figsize=(6, 4))\n",
    "plt.hist(degrees_random, bins=bins, density=True, alpha=0.7, edgecolor = \"black\")\n",
    "plt.xlabel('Degree')\n",
    "plt.xlim(0,20)\n",
    "plt.ylabel('Frequency')\n",
    "plt.title('Degree Distribution of Random Network')\n",
    "plt.grid(True)\n",
    "plt.show()\n",
    "\n",
    "# Accessing the network from Assignment 1:\n",
    "with open(\"my_network.pickle\", \"rb\") as f:\n",
    "    G = pickle.load(f)\n",
    "\n",
    "# Computing distribution of degree for the Social network:\n",
    "degrees_social = [degree for node, degree in G.degree()]\n",
    "hist, bins = np.histogram(degrees_social, bins=200, density=False)\n",
    "\n",
    "# Plot the degree distribution\n",
    "plt.figure(figsize=(6, 4))\n",
    "plt.hist(degrees_social, bins=bins, density=True, alpha=0.7, edgecolor = \"black\")\n",
    "plt.xlabel('Degree')\n",
    "plt.xlim(0,20)\n",
    "plt.ylabel('Frequency')\n",
    "plt.title('Degree Distribution of Social Network')\n",
    "plt.grid(True)\n",
    "plt.show()\n",
    "\n",
    "\n"
   ]
  },
  {
   "cell_type": "code",
   "execution_count": null,
   "metadata": {},
   "outputs": [],
   "source": []
  },
  {
   "cell_type": "markdown",
   "metadata": {},
   "source": [
    "# Part 2: Network Analysis in Computational Social Science"
   ]
  },
  {
   "cell_type": "markdown",
   "metadata": {},
   "source": [
    "# Part 3: Words that characterize Computational Social Science communities"
   ]
  },
  {
   "cell_type": "markdown",
   "metadata": {},
   "source": [
    "##### Exercise 1: TF-IDF and the Computational Social Science communities\n",
    "\n",
    "* TF-IDF is a statistical measure used in natural language processing and information retrieval to evaluate the importance of a word in a document within a larger collection of documents. The main purpose of TF-IDF is to highlight words that are significant to a specific document while downplaying words that are common across many documents.\n",
    "* TF stands for Term Frequency and\n",
    "* IDF stands for Inverse Document Frequency"
   ]
  },
  {
   "cell_type": "markdown",
   "metadata": {},
   "source": []
  }
 ],
 "metadata": {
  "kernelspec": {
   "display_name": "Python 3.9.13 ('ANN')",
   "language": "python",
   "name": "python3"
  },
  "language_info": {
   "codemirror_mode": {
    "name": "ipython",
    "version": 3
   },
   "file_extension": ".py",
   "mimetype": "text/x-python",
   "name": "python",
   "nbconvert_exporter": "python",
   "pygments_lexer": "ipython3",
   "version": "3.9.13"
  },
  "orig_nbformat": 4,
  "vscode": {
   "interpreter": {
    "hash": "e253e861da49e0bbccda70175bce74f3442aedb410e74d034432e289d13936b5"
   }
  }
 },
 "nbformat": 4,
 "nbformat_minor": 2
}

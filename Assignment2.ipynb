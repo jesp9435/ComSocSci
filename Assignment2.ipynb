{
 "cells": [
  {
   "cell_type": "code",
   "execution_count": 2,
   "metadata": {},
   "outputs": [],
   "source": [
    "import numpy as np\n",
    "import matplotlib.pyplot as plt\n",
    "import pandas as pd\n",
    "import csv\n",
    "import networkx as nx\n",
    "import netwulf as nw\n",
    "import numpy as np\n"
   ]
  },
  {
   "cell_type": "code",
   "execution_count": 7,
   "metadata": {},
   "outputs": [
    {
     "name": "stdout",
     "output_type": "stream",
     "text": [
      "0.0005389648330011947\n",
      "7.650605804451958\n"
     ]
    },
    {
     "data": {
      "text/plain": [
       "(None, None)"
      ]
     },
     "execution_count": 7,
     "metadata": {},
     "output_type": "execute_result"
    }
   ],
   "source": [
    "amount_of_nodes = 14196\n",
    "amount_of_edges = 54304\n",
    "probability = amount_of_edges/((amount_of_nodes*(amount_of_nodes-1))/2)\n",
    "print(probability)\n",
    "k = probability*(amount_of_nodes-1.0)\n",
    "print(k)\n",
    "\n",
    "def generate_random_network(node_count, p):\n",
    "    G = nx.Graph()\n",
    "    \n",
    "    G.add_nodes_from(range(node_count))\n",
    "    for i in range(node_count):\n",
    "        for j in range(i + 1, node_count):  \n",
    "            if np.random.uniform(0, 1) < p:\n",
    "                G.add_edge(i, j)\n",
    "    \n",
    "    return G\n",
    "\n",
    "#random_network = generate_random_network(amount_of_nodes,probability)\n",
    "#nx.draw(random_network)\n",
    "#nw.interactive.visualize (random_network)\n",
    "RG = nx.gnp_random_graph(amount_of_nodes, probability, seed=1000, directed=False)\n",
    "nw.interactive.visualize(RG)\n"
   ]
  }
 ],
 "metadata": {
  "kernelspec": {
   "display_name": "Python 3.9.13 ('ANN')",
   "language": "python",
   "name": "python3"
  },
  "language_info": {
   "codemirror_mode": {
    "name": "ipython",
    "version": 3
   },
   "file_extension": ".py",
   "mimetype": "text/x-python",
   "name": "python",
   "nbconvert_exporter": "python",
   "pygments_lexer": "ipython3",
   "version": "3.9.13"
  },
  "orig_nbformat": 4,
  "vscode": {
   "interpreter": {
    "hash": "e253e861da49e0bbccda70175bce74f3442aedb410e74d034432e289d13936b5"
   }
  }
 },
 "nbformat": 4,
 "nbformat_minor": 2
}

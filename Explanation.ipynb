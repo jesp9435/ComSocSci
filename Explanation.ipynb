{
 "cells": [
  {
   "cell_type": "code",
   "execution_count": 2,
   "metadata": {},
   "outputs": [
    {
     "name": "stdout",
     "output_type": "stream",
     "text": [
      "0.29430217476548126\n",
      "0.23871142882997015\n"
     ]
    }
   ],
   "source": [
    "#1 Calculate the network's density (the ratio of actual links to the maximum possible number of links). \n",
    "#Total maximum possibly links:\n",
    "total_links = ((257+1)*257)/2\n",
    "#2013:\n",
    "print(9757/total_links)\n",
    "\n",
    "#2017:\n",
    "print(7914/total_links)\n",
    "\n",
    "#2 Would you say that the network is sparse? Justify your answer.\n",
    "#The network may seem sparse, since roughly 29% and 24% of links exists in the network for May 5th for the year 2013 and 2017 respectively. However, some of the taxi zones are far away from each other, which may be too costly to get a taxi for. \n",
    "\n",
    "#3 Is the network fully connected (i.e., is there a direct or indirect path between every pair of nodes within the network), or is it disconnected?\n",
    "#is_connected_2013 = nx.is_connected(G_2013)\n",
    "#is_connected_2017 = nx.is_connected(G_2017)\n",
    "\n",
    "#print(\"Is the network fully connected?\", \"2013: \", is_connected_2013,\" 2017: \", is_connected_2017)\n",
    "\n",
    "#Both networks are fully connected\n",
    "\n",
    "#4 Discuss the results above on network density, and connectivity. Are your findings in line with what you expected? Why?\n",
    "#In transportation or communication networks, connectivity affects redundancy and network reliability, important for planning and fault tolerance. \n",
    "#A low-density network might indicate a large network where not all nodes are directly connected, which could be typical in large social or professional networks.\n",
    "#Relating Density to Connectivity: Discuss how changes in density could potentially affect connectivity. For example, increasing the number of edges (increasing density) generally enhances connectivity, making the network more robust against random failures.\n",
    "#Network Design and Policy Implications: For network designers and policymakers, understanding the relationship between density and connectivity can guide decisions on where to add redundancy, how to enhance communication pathways, or where to invest in infrastructure improvements to optimize performance and resilience.\n",
    "\n",
    "#5 Compute the average, median, mode, minimum, and maximum degree of the nodes. \n",
    "\n",
    "#6 Perform the same analysis for node strength (weighted degree). What do these metrics tell us about the network?\n",
    "\n",
    "\n",
    "\n",
    "\n",
    "\n",
    "\n"
   ]
  }
 ],
 "metadata": {
  "kernelspec": {
   "display_name": "Python 3",
   "language": "python",
   "name": "python3"
  },
  "language_info": {
   "codemirror_mode": {
    "name": "ipython",
    "version": 3
   },
   "file_extension": ".py",
   "mimetype": "text/x-python",
   "name": "python",
   "nbconvert_exporter": "python",
   "pygments_lexer": "ipython3",
   "version": "3.10.0"
  }
 },
 "nbformat": 4,
 "nbformat_minor": 2
}

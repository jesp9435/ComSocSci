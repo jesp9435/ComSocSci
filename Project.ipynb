{
 "cells": [
  {
   "cell_type": "code",
   "execution_count": 64,
   "metadata": {},
   "outputs": [
    {
     "name": "stdout",
     "output_type": "stream",
     "text": [
      "Index(['VendorID', 'tpep_pickup_datetime', 'tpep_dropoff_datetime',\n",
      "       'passenger_count', 'trip_distance', 'RatecodeID', 'store_and_fwd_flag',\n",
      "       'PULocationID', 'DOLocationID', 'payment_type', 'fare_amount', 'extra',\n",
      "       'mta_tax', 'tip_amount', 'tolls_amount', 'improvement_surcharge',\n",
      "       'total_amount', 'congestion_surcharge', 'airport_fee'],\n",
      "      dtype='object')\n",
      "0         2023-01-01 00:32:10\n",
      "1         2023-01-01 00:55:08\n",
      "2         2023-01-01 00:25:04\n",
      "3         2023-01-01 00:03:48\n",
      "4         2023-01-01 00:10:29\n",
      "                  ...        \n",
      "3066761   2023-01-31 23:58:34\n",
      "3066762   2023-01-31 23:31:09\n",
      "3066763   2023-01-31 23:01:05\n",
      "3066764   2023-01-31 23:40:00\n",
      "3066765   2023-01-31 23:07:32\n",
      "Name: tpep_pickup_datetime, Length: 3066766, dtype: datetime64[ns]\n"
     ]
    },
    {
     "data": {
      "text/plain": [
       "'hej'"
      ]
     },
     "execution_count": 64,
     "metadata": {},
     "output_type": "execute_result"
    }
   ],
   "source": [
    "import pyarrow.parquet as pq\n",
    "import numpy as np\n",
    "import pandas as pd\n",
    "import pyarrow as pa\n",
    "\n",
    "df = pd.read_parquet(\"/Users/jesperberglund/Downloads/yellow_tripdata_2023-01.parquet\")\n",
    "print(df.columns)\n",
    "print(df['tpep_pickup_datetime'])\n",
    "\n",
    "\n",
    "'''hej'''"
   ]
  }
 ],
 "metadata": {
  "kernelspec": {
   "display_name": "Python 3.9.13 ('ANN')",
   "language": "python",
   "name": "python3"
  },
  "language_info": {
   "codemirror_mode": {
    "name": "ipython",
    "version": 3
   },
   "file_extension": ".py",
   "mimetype": "text/x-python",
   "name": "python",
   "nbconvert_exporter": "python",
   "pygments_lexer": "ipython3",
   "version": "3.9.13"
  },
  "orig_nbformat": 4,
  "vscode": {
   "interpreter": {
    "hash": "e253e861da49e0bbccda70175bce74f3442aedb410e74d034432e289d13936b5"
   }
  }
 },
 "nbformat": 4,
 "nbformat_minor": 2
}

{
 "cells": [
  {
   "cell_type": "code",
   "execution_count": null,
   "metadata": {},
   "outputs": [],
   "source": [
    "import pyarrow.parquet as pq\n",
    "import numpy as np\n",
    "import pandas as pd\n",
    "import pyarrow as pa\n",
    "import matplotlib.pyplot as plt\n",
    "import networkx as nx\n",
    "\n",
    "\n",
    "df_2023 = pd.read_parquet(\"/Users/jesperberglund/Downloads/yellow_tripdata_2023-08.parquet\")\n",
    "df_2022 = pd.read_parquet(\"/Users/jesperberglund/Downloads/yellow_tripdata_2022-08.parquet\")\n",
    "df_2021 = pd.read_parquet(\"/Users/jesperberglund/Downloads/yellow_tripdata_2021-08.parquet\")\n",
    "df_2020 = pd.read_parquet(\"/Users/jesperberglund/Downloads/yellow_tripdata_2020-08.parquet\")\n",
    "df_2019 = pd.read_parquet(\"/Users/jesperberglund/Downloads/yellow_tripdata_2019-08.parquet\")\n",
    "df_2018 = pd.read_parquet(\"/Users/jesperberglund/Downloads/yellow_tripdata_2018-08.parquet\")\n",
    "df_2017 = pd.read_parquet(\"/Users/jesperberglund/Downloads/yellow_tripdata_2017-08.parquet\")\n",
    "df_2016 = pd.read_parquet(\"/Users/jesperberglund/Downloads/yellow_tripdata_2016-08.parquet\")\n",
    "df_2015 = pd.read_parquet(\"/Users/jesperberglund/Downloads/yellow_tripdata_2015-08.parquet\")\n",
    "df_2014 = pd.read_parquet(\"/Users/jesperberglund/Downloads/yellow_tripdata_2014-08.parquet\")\n",
    "\n",
    "#df_total = pd.concat([df_2023, df_2022, df_2021, df_2020, df_2019, df_2018, df_2017, df_2016, df_2015, df_2014], axis=1)\n",
    "dataframes = [df_2023, df_2022, df_2021, df_2020, df_2019, df_2018, df_2017, df_2016, df_2015, df_2014]\n",
    "years = [2023, 2022, 2021, 2020, 2019, 2018, 2017, 2016, 2015, 2014]\n",
    "\n",
    "for df, year in zip(dataframes, years):\n",
    "    df.columns = [f'{col}{year}' for col in df.columns]\n",
    "\n",
    "df_total = pd.concat(dataframes, axis=1)\n",
    "print(df_total.columns)\n",
    "# print(df_total['tip_amount'])\n",
    "# h = [x for x in df_total['tip_amount'] if x == 0]\n",
    "# print(len(h))\n",
    "# pd.DataFrame.to_csv(df_total['tip_amount'][0:1000], 'df_tip.csv')\n",
    "# df_total[['tip_amount', 'tpep_pickup_datetime']][0:1000].to_csv('df_tip.csv')\n",
    "# pd.DataFrame.to_csv(df_total['tip_amount'][0:1000].mean(), 'df_tip_mean.csv')\n",
    "\n",
    "columns_to_export = [f'{col}{year}' for year in years for col in ['tip_amount', 'tpep_pickup_datetime']]\n",
    "df_total[columns_to_export][0:10].to_csv('df_tip.csv')\n"
   ]
  },
  {
   "cell_type": "code",
   "execution_count": null,
   "metadata": {},
   "outputs": [],
   "source": [
    "def make_pairs(temp_list):\n",
    "    temp_list=list(temp_list)\n",
    "    temp_list.sort()\n",
    "    pairs=list(combinations(temp_list,2))\n",
    "    return pairs\n"
   ]
  }
 ],
 "metadata": {
  "kernelspec": {
   "display_name": "Python 3.9.13 ('ANN')",
   "language": "python",
   "name": "python3"
  },
  "language_info": {
   "codemirror_mode": {
    "name": "ipython",
    "version": 3
   },
   "file_extension": ".py",
   "mimetype": "text/x-python",
   "name": "python",
   "nbconvert_exporter": "python",
   "pygments_lexer": "ipython3",
   "version": "3.9.13"
  },
  "orig_nbformat": 4,
  "vscode": {
   "interpreter": {
    "hash": "e253e861da49e0bbccda70175bce74f3442aedb410e74d034432e289d13936b5"
   }
  }
 },
 "nbformat": 4,
 "nbformat_minor": 2
}

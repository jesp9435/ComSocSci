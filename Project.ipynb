{
 "cells": [
  {
   "cell_type": "code",
   "execution_count": 1,
   "metadata": {},
   "outputs": [
    {
     "name": "stdout",
     "output_type": "stream",
     "text": [
      "Index(['VendorID2023', 'tpep_pickup_datetime2023', 'tpep_dropoff_datetime2023',\n",
      "       'passenger_count2023', 'trip_distance2023', 'RatecodeID2023',\n",
      "       'store_and_fwd_flag2023', 'PULocationID2023', 'DOLocationID2023',\n",
      "       'payment_type2023',\n",
      "       ...\n",
      "       'payment_type2014', 'fare_amount2014', 'extra2014', 'mta_tax2014',\n",
      "       'tip_amount2014', 'tolls_amount2014', 'improvement_surcharge2014',\n",
      "       'total_amount2014', 'congestion_surcharge2014', 'airport_fee2014'],\n",
      "      dtype='object', length=190)\n"
     ]
    }
   ],
   "source": [
    "import pyarrow.parquet as pq\n",
    "import numpy as np\n",
    "import pandas as pd\n",
    "import pyarrow as pa\n",
    "import matplotlib.pyplot as plt\n",
    "import networkx as nx\n",
    "from itertools import combinations\n",
    "\n",
    "\n",
    "df_2023 = pd.read_parquet(\"/Users/jesperberglund/Downloads/yellow_tripdata_2023-08.parquet\")\n",
    "df_2022 = pd.read_parquet(\"/Users/jesperberglund/Downloads/yellow_tripdata_2022-08.parquet\")\n",
    "df_2021 = pd.read_parquet(\"/Users/jesperberglund/Downloads/yellow_tripdata_2021-08.parquet\")\n",
    "df_2020 = pd.read_parquet(\"/Users/jesperberglund/Downloads/yellow_tripdata_2020-08.parquet\")\n",
    "df_2019 = pd.read_parquet(\"/Users/jesperberglund/Downloads/yellow_tripdata_2019-08.parquet\")\n",
    "df_2018 = pd.read_parquet(\"/Users/jesperberglund/Downloads/yellow_tripdata_2018-08.parquet\")\n",
    "df_2017 = pd.read_parquet(\"/Users/jesperberglund/Downloads/yellow_tripdata_2017-08.parquet\")\n",
    "df_2016 = pd.read_parquet(\"/Users/jesperberglund/Downloads/yellow_tripdata_2016-08.parquet\")\n",
    "df_2015 = pd.read_parquet(\"/Users/jesperberglund/Downloads/yellow_tripdata_2015-08.parquet\")\n",
    "df_2014 = pd.read_parquet(\"/Users/jesperberglund/Downloads/yellow_tripdata_2014-08.parquet\")\n",
    "\n",
    "#df_total = pd.concat([df_2023, df_2022, df_2021, df_2020, df_2019, df_2018, df_2017, df_2016, df_2015, df_2014], axis=1)\n",
    "dataframes = [df_2023, df_2022, df_2021, df_2020, df_2019, df_2018, df_2017, df_2016, df_2015, df_2014]\n",
    "years = [2023, 2022, 2021, 2020, 2019, 2018, 2017, 2016, 2015, 2014]\n",
    "\n",
    "for df, year in zip(dataframes, years):\n",
    "    df.columns = [f'{col}{year}' for col in df.columns]\n",
    "\n",
    "df_total = pd.concat(dataframes, axis=1)\n",
    "print(df_total.columns)\n",
    "# print(df_total['tip_amount'])\n",
    "# h = [x for x in df_total['tip_amount'] if x == 0]\n",
    "# print(len(h))\n",
    "# pd.DataFrame.to_csv(df_total['tip_amount'][0:1000], 'df_tip.csv')\n",
    "# df_total[['tip_amount', 'tpep_pickup_datetime']][0:1000].to_csv('df_tip.csv')\n",
    "# pd.DataFrame.to_csv(df_total['tip_amount'][0:1000].mean(), 'df_tip_mean.csv')\n",
    "\n",
    "columns_to_export = [f'{col}{year}' for year in years for col in ['tip_amount', 'tpep_pickup_datetime', 'PULocationID', 'DOLocationID']]\n",
    "df_total[columns_to_export][0:1000].to_csv('df_tip.csv')\n"
   ]
  },
  {
   "cell_type": "code",
   "execution_count": null,
   "metadata": {},
   "outputs": [
    {
     "ename": "",
     "evalue": "",
     "output_type": "error",
     "traceback": [
      "\u001b[1;31mThe Kernel crashed while executing code in the current cell or a previous cell. \n",
      "\u001b[1;31mPlease review the code in the cell(s) to identify a possible cause of the failure. \n",
      "\u001b[1;31mClick <a href='https://aka.ms/vscodeJupyterKernelCrash'>here</a> for more info. \n",
      "\u001b[1;31mView Jupyter <a href='command:jupyter.viewOutput'>log</a> for further details."
     ]
    }
   ],
   "source": [
    "\n",
    "import networkx as nx\n",
    "\n",
    "# Create an empty graph\n",
    "G = nx.Graph()\n",
    "count = 0\n",
    "# Iterate over DataFrame rows\n",
    "for index, row in df_total.iterrows():\n",
    "    # Get the nodes and weight\n",
    "    pickup_location = row['PULocationID2014']\n",
    "    dropoff_location = row['DOLocationID2014']\n",
    "    tip_amount = row['tip_amount2014']\n",
    "    count += 1\n",
    "    print(count)\n",
    "    # If the edge already exists, add the tip amount to the weight\n",
    "    if G.has_edge(pickup_location, dropoff_location):\n",
    "        G[pickup_location][dropoff_location]['weight'] += tip_amount\n",
    "    # If the edge does not exist, create it and set the weight to the tip amount\n",
    "    else:\n",
    "        G.add_edge(pickup_location, dropoff_location, weight=tip_amount)\n",
    "\n",
    "\n",
    "# def make_pairs(temp_list):\n",
    "#     temp_list=list(temp_list)\n",
    "#     temp_list.sort()\n",
    "#     pairs=list(combinations(temp_list,2))\n",
    "#     return pairs\n",
    "\n",
    "# def count_pairs(author_list):\n",
    "#     unique_pairs = {}\n",
    "#     for author_pair in author_list:\n",
    "#         sorted_author_pair = sorted(author_pair)\n",
    "#         sorted_author_pair_tuple = tuple(sorted_author_pair)\n",
    "#         if sorted_author_pair_tuple in unique_pairs:\n",
    "#             unique_pairs[sorted_author_pair_tuple] += 1\n",
    "#         else:\n",
    "#             unique_pairs[sorted_author_pair_tuple] = 1\n",
    "#     unique_author_list = [[list(author_pair), count] for author_pair, count in unique_pairs.items()]\n",
    "#     return unique_author_list\n",
    "\n",
    "# G = nx.Graph()\n",
    "# # count = 0\n",
    "# # for pair in pairs:\n",
    "# #     G.add_edge(pair[0][0],pair[0][1],attr=pair[1])\n",
    "# #     count += 1\n",
    "# #     print(str(count) + \" : \"+str(len(pairs)))"
   ]
  }
 ],
 "metadata": {
  "kernelspec": {
   "display_name": "Python 3.9.13 ('ANN')",
   "language": "python",
   "name": "python3"
  },
  "language_info": {
   "codemirror_mode": {
    "name": "ipython",
    "version": 3
   },
   "file_extension": ".py",
   "mimetype": "text/x-python",
   "name": "python",
   "nbconvert_exporter": "python",
   "pygments_lexer": "ipython3",
   "version": "3.9.13"
  },
  "orig_nbformat": 4,
  "vscode": {
   "interpreter": {
    "hash": "e253e861da49e0bbccda70175bce74f3442aedb410e74d034432e289d13936b5"
   }
  }
 },
 "nbformat": 4,
 "nbformat_minor": 2
}
